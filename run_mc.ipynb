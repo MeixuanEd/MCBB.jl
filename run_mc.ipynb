{
 "cells": [
  {
   "cell_type": "markdown",
   "metadata": {},
   "source": [
    "# HighDimBiff Demo\n",
    "\n",
    "You can run this \n",
    "* either on the cluster, by first converting this notebook to a script via ''jupyter nbconvert --to script run_mc.ipynb --template=nbconv.tpl'', then calling it from the command line via a slurm script with an extra argument specifying the amount of processes that can be allocated \n",
    "    * the conversion works on all notebook cells that have a tag 'export' (view -> cell toolbar -> tags)\n",
    "* interactivly on your own computer with this notebook!\n"
   ]
  },
  {
   "cell_type": "code",
   "execution_count": null,
   "metadata": {
    "tags": [
     "export",
     "first"
    ]
   },
   "outputs": [],
   "source": [
    "if isdefined(:cluster)\n",
    "    using ClusterManagers\n",
    "    N_tasks = parse(Int, ARGS[1])\n",
    "    N_worker = N_tasks \n",
    "    addprocs(SlurmManager(N_worker))\n",
    "    @everywhere include(\"/p/tmp/maxgelbr/code/HighBifLib.jl/HighBifLib.jl\")\n",
    "else\n",
    "    #addprocs(1)\n",
    "    @everywhere include(\"HighBifLib.jl\")\n",
    "    import Plots\n",
    "end\n",
    "\n",
    "@everywhere using LSODA\n",
    "@everywhere using LightGraphs\n",
    "using JLD2, FileIO, Clustering\n",
    "@everywhere using DifferentialEquations\n",
    "@everywhere using Distributions\n",
    "@everywhere using HighBifLib  \n",
    "\n",
    "# these imports invoke a lot of warnings when executed with multiple processes\n",
    "# this seems to me to be more a bug of julia than an actual problem with this code\n",
    "# imported on a single process there are no warnings"
   ]
  },
  {
   "cell_type": "code",
   "execution_count": null,
   "metadata": {},
   "outputs": [],
   "source": []
  },
  {
   "cell_type": "markdown",
   "metadata": {},
   "source": [
    "# Example 1: Order Parameter of Kuramoto Osc. \n",
    "\n",
    "We vary the initial conditions and the coupling strength. This is just to demonstrate how these kind of experiments are setup\n",
    "\n",
    "**To-Do/Comment:** I am still very confused why and in which cases the @everywhere is needed. In this case the code doesn't work without any of the everywheres, but this goes against most of the explanations in the documentation."
   ]
  },
  {
   "cell_type": "code",
   "execution_count": null,
   "metadata": {},
   "outputs": [],
   "source": [
    "@everywhere N = 4\n",
    "@everywhere K = 0.5\n",
    "@everywhere nd = Normal(0.5, 0.5) # distribution for eigenfrequencies # mean = 0.5Hz, std = 0.5Hz\n",
    "@everywhere w_i_par = rand(nd,N) \n",
    "\n",
    "@everywhere net = erdos_renyi(N, 0.2)\n",
    "@everywhere A = adjacency_matrix(net)\n",
    "\n",
    "@everywhere ic = zeros(N)\n",
    "@everywhere ic_ranges = [-pi:pi/2:pi/2 for i=1:N]\n",
    "@everywhere K_range = 0.0:2:10.\n",
    "@everywhere pars = kuramoto_network_parameters(K, w_i_par, N, A)\n",
    "\n",
    "# base problem\n",
    "@everywhere rp = ODEProblem(kuramoto_network, ic, (0.,100.), pars)\n",
    "\n",
    "# setup the MC problem with the helper function from the library\n",
    "@everywhere (ic_coupling_problem, ic_par, N_mc) = setup_ic_par_mc_problem(rp, ic_ranges, pars, (:K, K_range))\n",
    "\n",
    "# for this first example we are only interested in the order parameter of the kuramoto model\n",
    "@everywhere output_func = (sol, i) -> (order_parameter(sol[:,end], N), false)\n",
    "\n",
    "# define the MC Problem\n",
    "ko_mcp = MonteCarloProblem(rp, prob_func=ic_coupling_problem, output_func=output_func)\n",
    "tail_frac = 0.9 # \n",
    "ko_emcp = EqMCProblem(ko_mcp, N_mc, tail_frac) \n",
    "ko_sol = solve(ko_emcp)\n",
    "\n",
    "\n"
   ]
  },
  {
   "cell_type": "markdown",
   "metadata": {},
   "source": [
    "# Example 2: Logistic Map"
   ]
  },
  {
   "cell_type": "code",
   "execution_count": null,
   "metadata": {},
   "outputs": [],
   "source": [
    "@everywhere r = 2.5:0.02:4\n",
    "@everywhere pars = logistic_parameters(r[1])\n",
    "@everywhere ic_ranges = [0.1:0.005:0.9]\n",
    "@everywhere dp = DiscreteProblem(logistic, ic_ranges[1][1], (0.,500.), pars)\n",
    "@everywhere (ic_r_prob, ic_par, N_mc) = setup_ic_par_mc_problem(dp, ic_ranges, pars, (:r, r))\n",
    "\n",
    "log_mcp = MonteCarloProblem(dp, prob_func=ic_r_prob, output_func=eval_ode_run)\n",
    "tail_frac = 0.8\n",
    "log_emcp = EqMCProblem(log_mcp, N_mc, tail_frac)\n",
    "log_sol = solve(log_emcp)\n",
    "\n",
    "if isdefined(:cluster)\n",
    "    @save \"mc_log.jld2\" log_sol\n",
    "end "
   ]
  },
  {
   "cell_type": "code",
   "execution_count": null,
   "metadata": {},
   "outputs": [],
   "source": [
    "@load \"mc_log.jld2\" log_sol"
   ]
  },
  {
   "cell_type": "code",
   "execution_count": null,
   "metadata": {},
   "outputs": [],
   "source": [
    "log_sol"
   ]
  },
  {
   "cell_type": "code",
   "execution_count": null,
   "metadata": {},
   "outputs": [],
   "source": [
    "D = distance_matrix(log_sol);\n",
    "k = 4\n",
    "fdist = k_dist(D,k);"
   ]
  },
  {
   "cell_type": "code",
   "execution_count": null,
   "metadata": {},
   "outputs": [],
   "source": [
    "x = collect(1:log_sol.N_mc)\n",
    "Plots.plot(x[1:end],fdist[1:end],ylims=[0,0.5])"
   ]
  },
  {
   "cell_type": "code",
   "execution_count": null,
   "metadata": {},
   "outputs": [],
   "source": [
    "eps = 0.15"
   ]
  },
  {
   "cell_type": "code",
   "execution_count": null,
   "metadata": {},
   "outputs": [],
   "source": [
    "db_res = dbscan(D,eps,k)\n",
    "cluster_meas = cluster_measures(db_res)"
   ]
  },
  {
   "cell_type": "markdown",
   "metadata": {},
   "source": [
    "# Example 3: Roessler Network"
   ]
  },
  {
   "cell_type": "code",
   "execution_count": null,
   "metadata": {
    "tags": [
     "export"
    ]
   },
   "outputs": [],
   "source": [
    "@everywhere N = 15\n",
    "\n",
    "@everywhere k = 6\n",
    "@everywhere p = 0.2\n",
    "@everywhere net = watts_strogatz(N, k, p)\n",
    "\n",
    "#@everywhere A = [0 1 1 \n",
    "#    1 0 1 \n",
    "#    1 1 0 ]\n",
    "#@everywhere net = Graph(A)\n",
    "\n",
    "@everywhere L = laplacian_matrix(net)\n",
    "\n",
    "@everywhere a = ones(N).*0.2\n",
    "@everywhere b = ones(N).*0.2\n",
    "@everywhere c = ones(N).*7.0\n",
    "\n",
    "tail_frac = 0.8\n",
    "\n",
    "# for reference get the synchronizable range of Ks\n",
    "evals = eig(full(L))[1]\n",
    "evals = sort!(evals[evals .> 1e-5])\n",
    "lambda_min = evals[end]\n",
    "lambda_max = evals[1]\n",
    "K_sync = (0.1232/lambda_min, 4.663/lambda_max)"
   ]
  },
  {
   "cell_type": "code",
   "execution_count": null,
   "metadata": {
    "tags": [
     "export"
    ]
   },
   "outputs": [],
   "source": [
    "#@everywhere K_range = [0.002, 0.004, 0.006, 0.008, 0.010, 0.03, 0.05, 0.1, 0.2, 0.5, 1, 2, 4]\n",
    "#@everywhere K_range = [0.002, 0.004, 0.03, 0.5, 1, 4]\n",
    "#@everywhere K_range = [0.002, 0.005, 0.01, 0.025, 0.05, 0.07, 0.5, 1, 2]\n",
    "@everywhere K_range = [0.005, 0.007, 0.009, 0.011, 0.013, 0.016, 0.02, 0.03, 0.04, 0.9, 1.5, 2]\n",
    "@everywhere ic_gen_xy = Uniform(-15.,15.)\n",
    "@everywhere ic_gen_z = Uniform(-5.,20.)\n",
    "\n",
    "@everywhere ic_gens = [()->rand(ic_gen_xy), ()-> rand(ic_gen_xy), ()->rand(ic_gen_z)]\n",
    "@everywhere N_ic = 100\n",
    "\n",
    "\n",
    "@everywhere rp = ODEProblem(roessler_network, zeros(3*N), (0.,100.), roessler_parameters(a,b,c,0.05,L,N))\n",
    "@everywhere (ic_coupling_problem, ic_par, N_mc) = setup_ic_par_mc_problem(rp, ic_gens, N_ic, roessler_parameters(a,b,c,0.05,L,N),(:K,K_range))\n"
   ]
  },
  {
   "cell_type": "code",
   "execution_count": null,
   "metadata": {
    "tags": [
     "export"
    ]
   },
   "outputs": [],
   "source": [
    "rn_mcp = MonteCarloProblem(rp, prob_func=ic_coupling_problem, output_func=eval_ode_run_repeat)\n",
    "rn_emcp = EqMCProblem(rn_mcp, N_mc, tail_frac)\n",
    "@time rn_sol = solve(rn_emcp)\n",
    "\n",
    "if isdefined(:cluster)\n",
    "    @save \"mc_roes_sol.jld2\" rn_sol\n",
    "    @save \"mc_roes_ic_par.jld2\" ic_par\n",
    "end "
   ]
  },
  {
   "cell_type": "code",
   "execution_count": null,
   "metadata": {},
   "outputs": [],
   "source": [
    "@load \"mc_roes_sol.jld2\" rn_sol\n",
    "@load \"mc_roes_ic_par.jld2\" ic_par"
   ]
  },
  {
   "cell_type": "code",
   "execution_count": null,
   "metadata": {},
   "outputs": [],
   "source": [
    "D = distance_matrix(rn_sol);\n",
    "k = 4\n",
    "fdist = k_dist(D,k);"
   ]
  },
  {
   "cell_type": "code",
   "execution_count": null,
   "metadata": {},
   "outputs": [],
   "source": [
    "x = collect(1:rn_sol.N_mc)\n",
    "Plots.plot(x[1:end],fdist[1:end])"
   ]
  },
  {
   "cell_type": "code",
   "execution_count": null,
   "metadata": {},
   "outputs": [],
   "source": [
    "eps = 6e8\n",
    "db_res = dbscan(D,eps,k)\n",
    "cluster_meas = cluster_measures(rn_sol, db_res)"
   ]
  },
  {
   "cell_type": "markdown",
   "metadata": {},
   "source": [
    "# Example 4: Lotka Volterra\n",
    "\n",
    "High Dimensional (N>=4) Lotka Volterra system can exhibit all kinds of interessting dynamics. Maybe it makes sense to study them with these tools\n",
    "\n",
    "First we study the 4-dim model: $\\frac{dN_i}{dt} = b_iN_i\\left(1-\\sum_{j=1}^n a_{ij}N_j\\right),\\qquad 1\\leq i\\leq n$\n",
    "\n",
    "The parameter configuration\n",
    "\n",
    "$ a = \\left[ \\begin{array}{cccc}\n",
    "        1 & 1.09 & 1.52 & 0\\\\\n",
    "        0 & 1 & 0.44 & 1.36\\\\\n",
    "        2.33 & 0 & 1 & 0.47\\\\\n",
    "        1.21 & 0.51 & 0.35 & 1\\\\\n",
    "        \\end{array} \\right] $\n",
    "        \n",
    "$ b = \\left(1, 0.72, 1.53, 1.27\\right)$\n",
    "\n",
    "is known to exhibit chaos with a strange attractor. Lets scan around these parameters."
   ]
  },
  {
   "cell_type": "code",
   "execution_count": 1,
   "metadata": {},
   "outputs": [],
   "source": [
    "@everywhere N = 4\n",
    "\n",
    "@everywhere a = [1 1.09 1.52 0\n",
    "                 0 1 0.44 1.36\n",
    "                 2.33 0 1 0.47\n",
    "                 1.21 0.51 0.35 1\n",
    "                ]\n",
    "@everywhere b = [1, 0.72, 1.53, 1.27]\n"
   ]
  },
  {
   "cell_type": "code",
   "execution_count": 2,
   "metadata": {},
   "outputs": [
    {
     "data": {
      "text/plain": [
       "4×4 Array{Float64,2}:\n",
       " 1.0   1.09  1.52  0.0 \n",
       " 0.0   1.0   0.44  1.36\n",
       " 2.33  0.0   1.0   0.47\n",
       " 1.21  0.51  0.35  1.0 "
      ]
     },
     "execution_count": 2,
     "metadata": {},
     "output_type": "execute_result"
    }
   ],
   "source": [
    "a"
   ]
  },
  {
   "cell_type": "markdown",
   "metadata": {},
   "source": [
    "# Example 5: Henon Map"
   ]
  }
 ],
 "metadata": {
  "kernelspec": {
   "display_name": "Julia 0.6.3",
   "language": "julia",
   "name": "julia-0.6"
  },
  "language_info": {
   "file_extension": ".jl",
   "mimetype": "application/julia",
   "name": "julia",
   "version": "0.6.3"
  }
 },
 "nbformat": 4,
 "nbformat_minor": 2
}
