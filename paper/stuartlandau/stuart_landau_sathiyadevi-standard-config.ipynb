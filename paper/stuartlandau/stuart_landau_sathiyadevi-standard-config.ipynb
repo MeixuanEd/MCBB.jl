{
 "cells": [
  {
   "cell_type": "markdown",
   "metadata": {},
   "source": [
    "# Stuart Landau Example \n",
    "\n",
    "This notebook contains the 1D-Stuart-Landau example from the MCBB paper. For all details please see the paper. The 2 2D-setups are in seperate files. \n",
    "\n",
    "For loading the saved jld files use the branch `old-state-sl-paper` of MCBB."
   ]
  },
  {
   "cell_type": "code",
   "execution_count": 1,
   "metadata": {
    "tags": [
     "export"
    ]
   },
   "outputs": [
    {
     "name": "stderr",
     "output_type": "stream",
     "text": [
      "┌ Info: Recompiling stale cache file /home/max/.julia/compiled/v1.1/GraphPlot/bUwXr.ji for GraphPlot [a2cc645c-3eea-5389-862e-a155d0052231]\n",
      "└ @ Base loading.jl:1184\n",
      "┌ Info: Recompiling stale cache file /home/max/.julia/compiled/v1.1/MCBB/OqZ54.ji for MCBB [e96e44f0-e827-11e8-0ed4-0f2eba430555]\n",
      "└ @ Base loading.jl:1184\n",
      "┌ Warning: read type ODEFunction{true,typeof(stuart_landau_sathiyadevi!),UniformScaling{Bool},Nothing,Nothing,Nothing,Nothing,Nothing,Nothing,Nothing,Nothing,TCV} where TCV is not a leaf type in workspace; reconstructing\n",
      "└ @ JLD2 /home/max/.julia/packages/JLD2/KjBIK/src/data.jl:477\n",
      "┌ Warning: some parameters could not be resolved for type EnsembleProblem{ODEProblem{Array{Complex{Float64},1},Tuple{Float64,Float64},true,stuart_landau_sathiyadevi_pars,getfield(JLD2.ReconstructedTypes, Symbol(\"##ODEFunction{true,typeof(stuart_landau_sathiyadevi!),UniformScaling{Bool},Nothing,Nothing,Nothing,Nothing,Nothing,Nothing,Nothing,Nothing,TCV} where TCV#363\")),Nothing,DiffEqBase.StandardODEProblem},getfield(MCBB, Symbol(\"#new_problem#37\")){Array{Complex{Float64},2},Array{Float64,2},stuart_landau_sathiyadevi_pars,Int64,Array{getfield(MCBB, Symbol(\"##39#40\")){getfield(Main, Symbol(\"##7#8\"))},1},ParameterVarFunc},typeof(eval_ode_run_stuart),DiffEqBase.##388#394,Array{Any,1}}; reconstructing\n",
      "└ @ JLD2 /home/max/.julia/packages/JLD2/KjBIK/src/data.jl:1143\n"
     ]
    },
    {
     "ename": "MethodError",
     "evalue": "MethodError: Cannot `convert` an object of type getfield(JLD2.ReconstructedTypes, Symbol(\"##EnsembleProblem{ODEProblem{Array{Complex{Float64},1},Tuple{Float64,Float64},true,stuart_landau_sathiyadevi_pars,getfield(JLD2.ReconstructedTypes, Symbol(\"##ODEFunction{true,typeof(stuart_landau_sathiyadevi!),UniformScaling{Bool},Nothing,Nothing,Nothing,Nothing,Nothing,Nothing,Nothing,Nothing,TCV} where TCV#363\")),Nothing,DiffEqBase.StandardODEProblem},getfield(MCBB, Symbol(\"#new_problem#37\")){Array{Complex{Float64},2},Array{Float64,2},stuart_landau_sathiyadevi_pars,Int64,Array{getfield(MCBB, Symbol(\"##39#40\")){getfield(Main, Symbol(\"##7#8\"))},1},ParameterVarFunc},typeof(eval_ode_run_stuart),DiffEqBase.##388#394,Array{Any,1}}#364\")) to an object of type EnsembleProblem\nClosest candidates are:\n  convert(::Type{T}, !Matched::T) where T at essentials.jl:154\n  EnsembleProblem(::T, !Matched::T2, !Matched::T3, !Matched::T4, !Matched::T5) where {T, T2, T3, T4, T5} at /home/max/.julia/packages/DiffEqBase/DqkH4/src/ensemble/ensemble_problems.jl:2\n  EnsembleProblem(::Any...) at deprecated.jl:55",
     "output_type": "error",
     "traceback": [
      "MethodError: Cannot `convert` an object of type getfield(JLD2.ReconstructedTypes, Symbol(\"##EnsembleProblem{ODEProblem{Array{Complex{Float64},1},Tuple{Float64,Float64},true,stuart_landau_sathiyadevi_pars,getfield(JLD2.ReconstructedTypes, Symbol(\"##ODEFunction{true,typeof(stuart_landau_sathiyadevi!),UniformScaling{Bool},Nothing,Nothing,Nothing,Nothing,Nothing,Nothing,Nothing,Nothing,TCV} where TCV#363\")),Nothing,DiffEqBase.StandardODEProblem},getfield(MCBB, Symbol(\"#new_problem#37\")){Array{Complex{Float64},2},Array{Float64,2},stuart_landau_sathiyadevi_pars,Int64,Array{getfield(MCBB, Symbol(\"##39#40\")){getfield(Main, Symbol(\"##7#8\"))},1},ParameterVarFunc},typeof(eval_ode_run_stuart),DiffEqBase.##388#394,Array{Any,1}}#364\")) to an object of type EnsembleProblem\nClosest candidates are:\n  convert(::Type{T}, !Matched::T) where T at essentials.jl:154\n  EnsembleProblem(::T, !Matched::T2, !Matched::T3, !Matched::T4, !Matched::T5) where {T, T2, T3, T4, T5} at /home/max/.julia/packages/DiffEqBase/DqkH4/src/ensemble/ensemble_problems.jl:2\n  EnsembleProblem(::Any...) at deprecated.jl:55",
      "",
      "Stacktrace:",
      " [1] jlconvert at /home/max/.julia/packages/JLD2/KjBIK/src/data.jl:675 [inlined]",
      " [2] macro expansion at /home/max/.julia/packages/JLD2/KjBIK/src/data.jl:1285 [inlined]",
      " [3] jlconvert(::JLD2.ReadRepresentation{DEMCBBProblem,JLD2.OnDiskRepresentation{(0, 8, 16, 24, 32, 40),Tuple{EnsembleProblem,Int64,Float64,AbstractArray,AbstractArray,ParameterVar},Tuple{JLD2.RelOffset,Int64,Float64,JLD2.RelOffset,JLD2.RelOffset,JLD2.RelOffset}}()}, ::JLD2.JLDFile{JLD2.MmapIO}, ::Ptr{Nothing}, ::JLD2.RelOffset) at /home/max/.julia/packages/JLD2/KjBIK/src/data.jl:1232",
      " [4] read_data(::JLD2.JLDFile{JLD2.MmapIO}, ::JLD2.ReadRepresentation{DEMCBBProblem,JLD2.OnDiskRepresentation{(0, 8, 16, 24, 32, 40),Tuple{EnsembleProblem,Int64,Float64,AbstractArray,AbstractArray,ParameterVar},Tuple{JLD2.RelOffset,Int64,Float64,JLD2.RelOffset,JLD2.RelOffset,JLD2.RelOffset}}()}, ::Array{JLD2.ReadAttribute,1}) at /home/max/.julia/packages/JLD2/KjBIK/src/dataio.jl:37",
      " [5] read_data(::JLD2.JLDFile{JLD2.MmapIO}, ::JLD2.ReadDataspace, ::UInt8, ::Int64, ::Int64, ::Int64, ::UInt16, ::JLD2.RelOffset, ::Array{JLD2.ReadAttribute,1}) at /home/max/.julia/packages/JLD2/KjBIK/src/datasets.jl:149",
      " [6] load_dataset(::JLD2.JLDFile{JLD2.MmapIO}, ::JLD2.RelOffset) at /home/max/.julia/packages/JLD2/KjBIK/src/datasets.jl:92",
      " [7] getindex(::JLD2.Group{JLD2.JLDFile{JLD2.MmapIO}}, ::String) at /home/max/.julia/packages/JLD2/KjBIK/src/groups.jl:108",
      " [8] read(::JLD2.JLDFile{JLD2.MmapIO}, ::String) at /home/max/.julia/packages/JLD2/KjBIK/src/JLD2.jl:326",
      " [9] #13 at /home/max/.julia/packages/JLD2/KjBIK/src/loadsave.jl:77 [inlined]",
      " [10] #jldopen#31(::Base.Iterators.Pairs{Union{},Union{},Tuple{},NamedTuple{(),Tuple{}}}, ::Function, ::getfield(Main, Symbol(\"##13#15\")), ::String) at /home/max/.julia/packages/JLD2/KjBIK/src/loadsave.jl:4",
      " [11] jldopen(::Function, ::String) at /home/max/.julia/packages/JLD2/KjBIK/src/loadsave.jl:2",
      " [12] top-level scope at /home/max/.julia/packages/JLD2/KjBIK/src/loadsave.jl:76",
      " [13] top-level scope at In[1]:172"
     ]
    }
   ],
   "source": [
    "cluster = false\n",
    "calc_distance = false\n",
    "using Distributed\n",
    "if cluster\n",
    "    using ClusterManagers\n",
    "    N_tasks = parse(Int, ARGS[1])\n",
    "    task_type = parse(Int, ARGS[2])\n",
    "    SAVE_NAME = ARGS[3]\n",
    "\n",
    "    if task_type == 1\n",
    "        N_worker = N_tasks\n",
    "        addprocs(SlurmManager(N_worker))\n",
    "        calc_mc = true\n",
    "        calc_distance = false\n",
    "    elseif task_type == 2\n",
    "        calc_mc = false\n",
    "        calc_distance = true\n",
    "    else\n",
    "        error(\"Unkown task_type, 1: Solve MCBB Problem, 2: Compute Distances\")\n",
    "    end\n",
    "else\n",
    "    SAVE_NAME = \"stuart-landau-standard-larger-eps-range\"\n",
    "    import PyPlot\n",
    "    using Plots, GraphPlot\n",
    "    using LaTeXStrings\n",
    "\n",
    "end\n",
    "\n",
    "@everywhere using MCBB\n",
    "using JLD2, Clustering, LinearAlgebra, SparseArrays\n",
    "@everywhere using Parameters, Distributions, DifferentialEquations, StatsBase, LightGraphs\n",
    "\n",
    "\n",
    "\n",
    "\n",
    "\n",
    "@everywhere struct stuart_landau_sathiyadevi_pars <: DEParameters\n",
    "    lambda::Real\n",
    "    omega::Real\n",
    "    eps::Real\n",
    "    N::Int\n",
    "    P_1::Int\n",
    "    P_2::Int\n",
    "    A_1::AbstractArray\n",
    "    A_2::AbstractArray\n",
    "end\n",
    "\n",
    "@everywhere function stuart_landau_sathiyadevi_pars(lambda::Real, omega::Real, eps::Real, N::Int, P_1::Int, P_2::Int, p_r::Number=0.04)\n",
    "    P_1 = Int(round(r_1*N))\n",
    "    P_2 = Int(round(r_2*N))\n",
    "\n",
    "    A_1 = Bool.(adjacency_matrix(watts_strogatz(N, 2*P_1, p_r)))\n",
    "    A_2 = Bool.(adjacency_matrix(watts_strogatz(N, 2*P_2, p_r)))\n",
    "\n",
    "    stuart_landau_sathiyadevi_pars(lambda, omega, eps, N, P_1, P_2, A_1, A_2)\n",
    "end\n",
    "\n",
    "\n",
    "@everywhere function stuart_landau_sathiyadevi_pars(lambda::Real, omega::Real, eps::Real, N::Int, r_1::Real, r_2::Real)\n",
    "    P_1 = Int(round(r_1*N))\n",
    "    P_2 = Int(round(r_2*N))\n",
    "    stuart_landau_sathiyadevi_pars(lambda, omega, eps, N, P_1, P_2)\n",
    "end\n",
    "\n",
    "\n",
    "@everywhere function stuart_landau_sathiyadevi!(dz,z,p::stuart_landau_sathiyadevi_pars,t)\n",
    "    epsP1 = p.eps/(2*p.P_1)\n",
    "    epsP2 = p.eps/(2*p.P_2)\n",
    "\n",
    "    for i=1:p.N\n",
    "        attr_coup = 0.\n",
    "        for j=1:N\n",
    "            if p.A_1[i,j]\n",
    "               attr_coup += complex(real(z[j]) - real(z[i]),0)\n",
    "            end\n",
    "        end\n",
    "        attr_coup *= epsP1\n",
    "\n",
    "        repul_coup = 0.\n",
    "        for j=1:p.N\n",
    "            if p.A_2[i,j]\n",
    "                repul_coup += complex(0., imag(z[j]) - imag(z[i]))\n",
    "            end\n",
    "        end\n",
    "        repul_coup *= epsP2\n",
    "\n",
    "        dz[i] = (complex(p.lambda,p.omega) - abs(z[i])^2)*z[i] + attr_coup - repul_coup\n",
    "    end\n",
    "end\n",
    "\n",
    "\n",
    "\n",
    "\n",
    "\n",
    "\n",
    "\n",
    "\n",
    "@everywhere N = 100\n",
    "@everywhere r_1 = 0.01\n",
    "@everywhere r_2 = 0.22\n",
    "@everywhere omega = 2.0\n",
    "@everywhere lambda = 1.0\n",
    "@everywhere epsval = 1.925\n",
    "@everywhere pars = stuart_landau_sathiyadevi_pars(lambda, omega, epsval, N, r_1, r_2)\n",
    "\n",
    "@everywhere epsilons = () -> rand(Uniform(1.8,2.1))\n",
    "@everywhere p_r_gen = () -> rand(Uniform(0.,0.05))\n",
    "@everywhere ic_dist = () -> complex(rand(Uniform(-1,1)),rand(Uniform(-1,1)))\n",
    "\n",
    "@everywhere N_ics = 12000\n",
    "@everywhere tail_frac = 0.7\n",
    "\n",
    "#@everywhere par_vars = (:eps, epsilons)\n",
    "\n",
    "@everywhere new_sls_pars(old_par::stuart_landau_sathiyadevi_pars; eps=2.02, p_r=0.0) = stuart_landau_sathiyadevi_pars(old_par.lambda, old_par.omega, eps, old_par.N, old_par.P_1, old_par.P_2, p_r)\n",
    "#@everywhere par_vars = MultiDimParameterVar([OneDimParameterVar(:eps, epsilons),OneDimParameterVar(:p_r,p_r_gen)], new_sls_pars)\n",
    "\n",
    "#@everywhere par_vars = (:p_r, p_r_gen, new_sls_pars)\n",
    "@everywhere par_vars = (:eps, epsilons, new_sls_pars)\n",
    "@everywhere odeprob = ODEProblem(stuart_landau_sathiyadevi!, rand(Complex{Float64},N), (0.,200.), pars)\n",
    "\n",
    "\n",
    "@everywhere mean_real(arr::Array{Complex{Float64},1}, past_measures::AbstractArray) = mean(real.(arr))\n",
    "@everywhere std_real(arr::Array{Complex{Float64},1}, past_measures::AbstractArray) = std(real.(arr); mean=past_measures[1])\n",
    "@everywhere kl_real(arr::AbstractArray, past_measures::AbstractArray) = empirical_1D_KL_divergence_hist(real.(arr), past_measures)\n",
    "\n",
    "@everywhere mean_imag(arr::Array{Complex{Float64},1}, past_measures::AbstractArray) = mean(imag.(arr))\n",
    "@everywhere std_imag(arr::Array{Complex{Float64},1}, past_measures::AbstractArray) = std(imag.(arr); mean=past_measures[4])\n",
    "@everywhere kl_imag(arr::AbstractArray, past_measures::AbstractArray) = empirical_1D_KL_divergence_hist(imag.(arr), [past_measures[4], past_measures[5]])\n",
    "\n",
    "\n",
    "@everywhere function eval_ode_run_stuart(sol,i)\n",
    "    (N_dim, __) = size(sol)\n",
    "    state_filter = collect(1:N)\n",
    "    eval_funcs = [mean_real, std_real, kl_real, mean_imag, std_imag, kl_imag]\n",
    "    global_eval_funcs = []\n",
    "    matrix_eval_funcs = [correlation_ecdf]\n",
    "    eval_ode_run(sol, i, state_filter, eval_funcs, matrix_eval_funcs, global_eval_funcs, flag_past_measures=true)\n",
    "end\n",
    "\n",
    "\n",
    "\n",
    "\n",
    "\n",
    "\n",
    "\n",
    "\n",
    "\n",
    "\n",
    "\n",
    "\n",
    "\n",
    "\n",
    "\n",
    "\n",
    "\n",
    "\n",
    "\n",
    "\n",
    "distance_func = (x,y)->sum(abs.(x.-y))\n",
    "\n",
    "weights = [0.25, 1., 0., 0.25, 1., 0.,0., 1.]\n",
    "K_BIN_FAC = 0.25\n",
    "\n",
    "if cluster\n",
    "    prob = DEMCBBProblem(odeprob, ic_dist, N_ics, pars, par_vars, eval_ode_run_stuart, tail_frac);\n",
    "    println(\"solving now...\")\n",
    "    sol = solve(prob);\n",
    "    println(\"finished!\")\n",
    "    @save string(SAVE_NAME,\"-ps.jld2\") prob sol\n",
    "else\n",
    "    @load string(SAVE_NAME,\"-ps.jld2\") prob sol\n",
    "\n",
    "end\n",
    "\n",
    "\n",
    "if calc_distance\n",
    "    sol = normalize(sol)\n",
    "\n",
    "    #println(\"calculating first distance matrix\")\n",
    "    #D = distance_matrix(sol, prob, [0.5, 1., 0.25, 0.5, 1., 0.25, 1.])\n",
    "    #@save string(SAVE_NAME,\"-d.jld2\") D\n",
    "\n",
    "    println(\"calculating second distance matrix\")\n",
    "    \n",
    "    D_hist = distance_matrix(sol, prob, distance_func, weights, histograms=true, matrix_distance_func=MCBB.wasserstein_histogram_distance, k_bin=K_BIN_FAC)\n",
    "    @save string(SAVE_NAME,\"-d-hist-corr.jld2\") D_hist\n",
    "    \n",
    "    # normalize sol for the distance computation but not for the later plots and so on. \n",
    "    @load string(SAVE_NAME,\"-ps.jld2\") prob sol\n",
    "\n",
    "else\n",
    "    if !(cluster)\n",
    "        #@load string(SAVE_NAME,\"-d.jld2\") D\n",
    "        @load string(SAVE_NAME,\"-d-hist-corr.jld2\") D_hist\n",
    "    end\n",
    "end"
   ]
  },
  {
   "cell_type": "code",
   "execution_count": 2,
   "metadata": {},
   "outputs": [
    {
     "ename": "UndefVarError",
     "evalue": "UndefVarError: D_hist not defined",
     "output_type": "error",
     "traceback": [
      "UndefVarError: D_hist not defined",
      "",
      "Stacktrace:",
      " [1] top-level scope at In[2]:2"
     ]
    }
   ],
   "source": [
    "k = 4\n",
    "fdist2 = k_dist(D_hist,k);\n",
    "x = collect(1:sol.N_mc)\n",
    "\n",
    "plot(x[1:end],fdist2[1:end])"
   ]
  },
  {
   "cell_type": "markdown",
   "metadata": {},
   "source": [
    "# Clustering 1 \n",
    "\n",
    "Coarse Resolution -> more fine structure "
   ]
  },
  {
   "cell_type": "code",
   "execution_count": 3,
   "metadata": {},
   "outputs": [
    {
     "ename": "UndefVarError",
     "evalue": "UndefVarError: D_hist not defined",
     "output_type": "error",
     "traceback": [
      "UndefVarError: D_hist not defined",
      "",
      "Stacktrace:",
      " [1] top-level scope at In[3]:2"
     ]
    }
   ],
   "source": [
    "db_eps = 0.008\n",
    "db_res_1 = dbscan(D_hist,db_eps,10)\n",
    "db_res_1.counts"
   ]
  },
  {
   "cell_type": "markdown",
   "metadata": {},
   "source": [
    "### Names of the Clusters "
   ]
  },
  {
   "cell_type": "code",
   "execution_count": 4,
   "metadata": {},
   "outputs": [],
   "source": [
    "clabels = [\"Outlier\", \"TW\", \"RCSW\", \"PS\", \"OD\"];"
   ]
  },
  {
   "cell_type": "code",
   "execution_count": 5,
   "metadata": {},
   "outputs": [
    {
     "name": "stderr",
     "output_type": "stream",
     "text": [
      "┌ Info: Recompiling stale cache file /home/max/.julia/compiled/v1.1/PGFPlots/XxINN.ji for PGFPlots [3b7a836e-365b-5785-a47d-02c71176b4aa]\n",
      "└ @ Base loading.jl:1184\n"
     ]
    },
    {
     "ename": "UndefVarError",
     "evalue": "UndefVarError: prob not defined",
     "output_type": "error",
     "traceback": [
      "UndefVarError: prob not defined",
      "",
      "Stacktrace:",
      " [1] top-level scope at In[5]:2"
     ]
    }
   ],
   "source": [
    "Plots.pgfplots()\n",
    "cluster_members_1 = cluster_membership(prob, db_res_1, 0.025, 0.01; min_members = 50);\n",
    "\n",
    "Plots.plot(cluster_members_1, linecolor=\"white\", guidefontsize=14, legendfontsize=12, fillalpha=0.6, xlabel=L\"Coupling $K$\", label=reverse(clabels))\n"
   ]
  },
  {
   "cell_type": "code",
   "execution_count": 6,
   "metadata": {},
   "outputs": [
    {
     "ename": "UndefVarError",
     "evalue": "UndefVarError: cluster_members_1 not defined",
     "output_type": "error",
     "traceback": [
      "UndefVarError: cluster_members_1 not defined",
      "",
      "Stacktrace:",
      " [1] top-level scope at In[6]:1"
     ]
    }
   ],
   "source": [
    "sort!(cluster_members_1, ignore_first=true)\n",
    "Plots.plot(cluster_members_1, linecolor=\"white\", guidefontsize=14, legendfontsize=12, fillalpha=0.6, xlabel=L\"Coupling $K$\", label=reverse(clabels))\n"
   ]
  },
  {
   "cell_type": "code",
   "execution_count": 7,
   "metadata": {},
   "outputs": [
    {
     "ename": "UndefVarError",
     "evalue": "UndefVarError: cluster_members_1 not defined",
     "output_type": "error",
     "traceback": [
      "UndefVarError: cluster_members_1 not defined",
      "",
      "Stacktrace:",
      " [1] top-level scope at In[7]:1"
     ]
    }
   ],
   "source": [
    "sort!(cluster_members_1, ignore_first=false)\n",
    "Plots.plot(cluster_members_1, linecolor=\"white\", guidefontsize=14, legendfontsize=12, fillalpha=0.6, xlabel=L\"Coupling $K$\", label=reverse(clabels))\n"
   ]
  },
  {
   "cell_type": "code",
   "execution_count": 8,
   "metadata": {},
   "outputs": [
    {
     "name": "stdout",
     "output_type": "stream",
     "text": [
      "search: \u001b[0m\u001b[1ms\u001b[22m\u001b[0m\u001b[1mo\u001b[22m\u001b[0m\u001b[1mr\u001b[22m\u001b[0m\u001b[1mt\u001b[22m\u001b[0m\u001b[1m!\u001b[22m partial\u001b[0m\u001b[1ms\u001b[22m\u001b[0m\u001b[1mo\u001b[22m\u001b[0m\u001b[1mr\u001b[22m\u001b[0m\u001b[1mt\u001b[22m\u001b[0m\u001b[1m!\u001b[22m \u001b[0m\u001b[1ms\u001b[22m\u001b[0m\u001b[1mo\u001b[22m\u001b[0m\u001b[1mr\u001b[22m\u001b[0m\u001b[1mt\u001b[22mperm\u001b[0m\u001b[1m!\u001b[22m partial\u001b[0m\u001b[1ms\u001b[22m\u001b[0m\u001b[1mo\u001b[22m\u001b[0m\u001b[1mr\u001b[22m\u001b[0m\u001b[1mt\u001b[22mperm\u001b[0m\u001b[1m!\u001b[22m \u001b[0m\u001b[1ms\u001b[22metpr\u001b[0m\u001b[1mo\u001b[22mpe\u001b[0m\u001b[1mr\u001b[22m\u001b[0m\u001b[1mt\u001b[22my\u001b[0m\u001b[1m!\u001b[22m \u001b[0m\u001b[1ms\u001b[22mh\u001b[0m\u001b[1mo\u001b[22mwg\u001b[0m\u001b[1mr\u001b[22madien\u001b[0m\u001b[1mt\u001b[22m\u001b[0m\u001b[1m!\u001b[22m\n",
      "\n"
     ]
    },
    {
     "data": {
      "text/latex": [
       "\\begin{verbatim}\n",
       "sort!(v; alg::Algorithm=defalg(v), lt=isless, by=identity, rev::Bool=false, order::Ordering=Forward)\n",
       "\\end{verbatim}\n",
       "Sort the vector \\texttt{v} in place. \\texttt{QuickSort} is used by default for numeric arrays while \\texttt{MergeSort} is used for other arrays. You can specify an algorithm to use via the \\texttt{alg} keyword (see Sorting Algorithms for available algorithms). The \\texttt{by} keyword lets you provide a function that will be applied to each element before comparison; the \\texttt{lt} keyword allows providing a custom \"less than\" function; use \\texttt{rev=true} to reverse the sorting order. These options are independent and can be used together in all possible combinations: if both \\texttt{by} and \\texttt{lt} are specified, the \\texttt{lt} function is applied to the result of the \\texttt{by} function; \\texttt{rev=true} reverses whatever ordering specified via the \\texttt{by} and \\texttt{lt} keywords.\n",
       "\n",
       "\\section{Examples}\n",
       "\\begin{verbatim}\n",
       "julia> v = [3, 1, 2]; sort!(v); v\n",
       "3-element Array{Int64,1}:\n",
       " 1\n",
       " 2\n",
       " 3\n",
       "\n",
       "julia> v = [3, 1, 2]; sort!(v, rev = true); v\n",
       "3-element Array{Int64,1}:\n",
       " 3\n",
       " 2\n",
       " 1\n",
       "\n",
       "julia> v = [(1, \"c\"), (3, \"a\"), (2, \"b\")]; sort!(v, by = x -> x[1]); v\n",
       "3-element Array{Tuple{Int64,String},1}:\n",
       " (1, \"c\")\n",
       " (2, \"b\")\n",
       " (3, \"a\")\n",
       "\n",
       "julia> v = [(1, \"c\"), (3, \"a\"), (2, \"b\")]; sort!(v, by = x -> x[2]); v\n",
       "3-element Array{Tuple{Int64,String},1}:\n",
       " (3, \"a\")\n",
       " (2, \"b\")\n",
       " (1, \"c\")\n",
       "\\end{verbatim}\n",
       "\\rule{\\textwidth}{1pt}\n",
       "\\begin{verbatim}\n",
       "sort!(A; dims::Integer, alg::Algorithm=defalg(v), lt=isless, by=identity, rev::Bool=false, order::Ordering=Forward)\n",
       "\\end{verbatim}\n",
       "Sort the multidimensional array \\texttt{A} along dimension \\texttt{dims}. See \\href{@ref}{\\texttt{sort!}} for a description of possible keyword arguments.\n",
       "\n",
       "To sort slices of an array, refer to \\href{@ref}{\\texttt{sortslices}}.\n",
       "\n",
       "\\begin{quote}\n",
       "\\textbf{compat}\n",
       "\n",
       "Julia 1.1\n",
       "\n",
       "This function requires at least Julia 1.1.\n",
       "\n",
       "\\end{quote}\n",
       "\\section{Examples}\n",
       "\\begin{verbatim}\n",
       "julia> A = [4 3; 1 2]\n",
       "2×2 Array{Int64,2}:\n",
       " 4  3\n",
       " 1  2\n",
       "\n",
       "julia> sort!(A, dims = 1); A\n",
       "2×2 Array{Int64,2}:\n",
       " 1  2\n",
       " 4  3\n",
       "\n",
       "julia> sort!(A, dims = 2); A\n",
       "2×2 Array{Int64,2}:\n",
       " 1  2\n",
       " 3  4\n",
       "\\end{verbatim}\n",
       "\\rule{\\textwidth}{1pt}\n",
       "\\begin{verbatim}\n",
       "sort(sol::DEMCBBSol, prob::DEMCBBProblem, i::Int=1)\n",
       "\\end{verbatim}\n",
       "Sorts \\texttt{sol} and \\texttt{prob} inplace by the values of the \\texttt{i}-th parameter.\n",
       "\n",
       "(In case the parameter is complex valued, it sorts by the absolute value of the parameter)\n",
       "\n",
       "\\rule{\\textwidth}{1pt}\n",
       "\\begin{verbatim}\n",
       "sort(prob::DEMCBBProblem, i::Int=1)\n",
       "\\end{verbatim}\n",
       "Sorts \\texttt{prob} inplace by the values of the\\texttt{i}-th paramater.\n",
       "\n",
       "(In case the parameter is complex valued, it sorts by the absolute value of the parameter)\n",
       "\n",
       "\\rule{\\textwidth}{1pt}\n",
       "\\begin{verbatim}\n",
       "sort!(cm::ClusterMembershipResult; ignore_first::Bool=false)\n",
       "\\end{verbatim}\n",
       "Sorts \\texttt{cm} inplace by the count of members of the clusters from low to high. If \\texttt{ignore\\_first} is true, the first cluster (with DBSCAN this is the outlier cluster) is ignored while sorting and remains the first cluster.\n",
       "\n",
       "\\rule{\\textwidth}{1pt}\n",
       "\\begin{verbatim}\n",
       "sort!(df::AbstractDataFrame, cols;\n",
       "      alg::Union{Algorithm, Nothing}=nothing, lt=isless, by=identity,\n",
       "      rev::Bool=false, order::Ordering=Forward)\n",
       "\\end{verbatim}\n",
       "Sort data frame \\texttt{df} by column(s) \\texttt{cols}. \\texttt{cols} can be either a \\texttt{Symbol} or \\texttt{Integer} column index, or a tuple or vector of such indices.\n",
       "\n",
       "If \\texttt{alg} is \\texttt{nothing} (the default), the most appropriate algorithm is chosen automatically among \\texttt{TimSort}, \\texttt{MergeSort} and \\texttt{RadixSort} depending on the type of the sorting columns and on the number of rows in \\texttt{df}. If \\texttt{rev} is \\texttt{true}, reverse sorting is performed. To enable reverse sorting only for some columns, pass \\texttt{order(c, rev=true)} in \\texttt{cols}, with \\texttt{c} the corresponding column index (see example below). See other methods for a description of other keyword arguments.\n",
       "\n",
       "\\section{Examples}\n",
       "\\begin{verbatim}\n",
       "julia> df = DataFrame(x = [3, 1, 2, 1], y = [\"b\", \"c\", \"a\", \"b\"])\n",
       "4×2 DataFrame\n",
       "│ Row │ x     │ y      │\n",
       "│     │ Int64 │ String │\n",
       "├─────┼───────┼────────┤\n",
       "│ 1   │ 3     │ b      │\n",
       "│ 2   │ 1     │ c      │\n",
       "│ 3   │ 2     │ a      │\n",
       "│ 4   │ 1     │ b      │\n",
       "\n",
       "julia> sort!(df, :x)\n",
       "4×2 DataFrame\n",
       "│ Row │ x     │ y      │\n",
       "│     │ Int64 │ String │\n",
       "├─────┼───────┼────────┤\n",
       "│ 1   │ 1     │ c      │\n",
       "│ 2   │ 1     │ b      │\n",
       "│ 3   │ 2     │ a      │\n",
       "│ 4   │ 3     │ b      │\n",
       "\n",
       "julia> sort!(df, (:x, :y))\n",
       "4×2 DataFrame\n",
       "│ Row │ x     │ y      │\n",
       "│     │ Int64 │ String │\n",
       "├─────┼───────┼────────┤\n",
       "│ 1   │ 1     │ b      │\n",
       "│ 2   │ 1     │ c      │\n",
       "│ 3   │ 2     │ a      │\n",
       "│ 4   │ 3     │ b      │\n",
       "\n",
       "julia> sort!(df, (:x, :y), rev=true)\n",
       "4×2 DataFrame\n",
       "│ Row │ x     │ y      │\n",
       "│     │ Int64 │ String │\n",
       "├─────┼───────┼────────┤\n",
       "│ 1   │ 3     │ b      │\n",
       "│ 2   │ 2     │ a      │\n",
       "│ 3   │ 1     │ c      │\n",
       "│ 4   │ 1     │ b      │\n",
       "\n",
       "julia> sort!(df, (:x, order(:y, rev=true)))\n",
       "4×2 DataFrame\n",
       "│ Row │ x     │ y      │\n",
       "│     │ Int64 │ String │\n",
       "├─────┼───────┼────────┤\n",
       "│ 1   │ 1     │ c      │\n",
       "│ 2   │ 1     │ b      │\n",
       "│ 3   │ 2     │ a      │\n",
       "│ 4   │ 3     │ b      │\n",
       "\\end{verbatim}\n"
      ],
      "text/markdown": [
       "```\n",
       "sort!(v; alg::Algorithm=defalg(v), lt=isless, by=identity, rev::Bool=false, order::Ordering=Forward)\n",
       "```\n",
       "\n",
       "Sort the vector `v` in place. `QuickSort` is used by default for numeric arrays while `MergeSort` is used for other arrays. You can specify an algorithm to use via the `alg` keyword (see Sorting Algorithms for available algorithms). The `by` keyword lets you provide a function that will be applied to each element before comparison; the `lt` keyword allows providing a custom \"less than\" function; use `rev=true` to reverse the sorting order. These options are independent and can be used together in all possible combinations: if both `by` and `lt` are specified, the `lt` function is applied to the result of the `by` function; `rev=true` reverses whatever ordering specified via the `by` and `lt` keywords.\n",
       "\n",
       "# Examples\n",
       "\n",
       "```jldoctest\n",
       "julia> v = [3, 1, 2]; sort!(v); v\n",
       "3-element Array{Int64,1}:\n",
       " 1\n",
       " 2\n",
       " 3\n",
       "\n",
       "julia> v = [3, 1, 2]; sort!(v, rev = true); v\n",
       "3-element Array{Int64,1}:\n",
       " 3\n",
       " 2\n",
       " 1\n",
       "\n",
       "julia> v = [(1, \"c\"), (3, \"a\"), (2, \"b\")]; sort!(v, by = x -> x[1]); v\n",
       "3-element Array{Tuple{Int64,String},1}:\n",
       " (1, \"c\")\n",
       " (2, \"b\")\n",
       " (3, \"a\")\n",
       "\n",
       "julia> v = [(1, \"c\"), (3, \"a\"), (2, \"b\")]; sort!(v, by = x -> x[2]); v\n",
       "3-element Array{Tuple{Int64,String},1}:\n",
       " (3, \"a\")\n",
       " (2, \"b\")\n",
       " (1, \"c\")\n",
       "```\n",
       "\n",
       "---\n",
       "\n",
       "```\n",
       "sort!(A; dims::Integer, alg::Algorithm=defalg(v), lt=isless, by=identity, rev::Bool=false, order::Ordering=Forward)\n",
       "```\n",
       "\n",
       "Sort the multidimensional array `A` along dimension `dims`. See [`sort!`](@ref) for a description of possible keyword arguments.\n",
       "\n",
       "To sort slices of an array, refer to [`sortslices`](@ref).\n",
       "\n",
       "!!! compat \"Julia 1.1\"\n",
       "    This function requires at least Julia 1.1.\n",
       "\n",
       "\n",
       "# Examples\n",
       "\n",
       "```jldoctest\n",
       "julia> A = [4 3; 1 2]\n",
       "2×2 Array{Int64,2}:\n",
       " 4  3\n",
       " 1  2\n",
       "\n",
       "julia> sort!(A, dims = 1); A\n",
       "2×2 Array{Int64,2}:\n",
       " 1  2\n",
       " 4  3\n",
       "\n",
       "julia> sort!(A, dims = 2); A\n",
       "2×2 Array{Int64,2}:\n",
       " 1  2\n",
       " 3  4\n",
       "```\n",
       "\n",
       "---\n",
       "\n",
       "```\n",
       "sort(sol::DEMCBBSol, prob::DEMCBBProblem, i::Int=1)\n",
       "```\n",
       "\n",
       "Sorts `sol` and `prob` inplace by the values of the `i`-th parameter.\n",
       "\n",
       "(In case the parameter is complex valued, it sorts by the absolute value of the parameter)\n",
       "\n",
       "---\n",
       "\n",
       "```\n",
       "sort(prob::DEMCBBProblem, i::Int=1)\n",
       "```\n",
       "\n",
       "Sorts `prob` inplace by the values of the`i`-th paramater.\n",
       "\n",
       "(In case the parameter is complex valued, it sorts by the absolute value of the parameter)\n",
       "\n",
       "---\n",
       "\n",
       "```\n",
       "sort!(cm::ClusterMembershipResult; ignore_first::Bool=false)\n",
       "```\n",
       "\n",
       "Sorts `cm` inplace by the count of members of the clusters from low to high. If `ignore_first` is true, the first cluster (with DBSCAN this is the outlier cluster) is ignored while sorting and remains the first cluster.\n",
       "\n",
       "---\n",
       "\n",
       "```\n",
       "sort!(df::AbstractDataFrame, cols;\n",
       "      alg::Union{Algorithm, Nothing}=nothing, lt=isless, by=identity,\n",
       "      rev::Bool=false, order::Ordering=Forward)\n",
       "```\n",
       "\n",
       "Sort data frame `df` by column(s) `cols`. `cols` can be either a `Symbol` or `Integer` column index, or a tuple or vector of such indices.\n",
       "\n",
       "If `alg` is `nothing` (the default), the most appropriate algorithm is chosen automatically among `TimSort`, `MergeSort` and `RadixSort` depending on the type of the sorting columns and on the number of rows in `df`. If `rev` is `true`, reverse sorting is performed. To enable reverse sorting only for some columns, pass `order(c, rev=true)` in `cols`, with `c` the corresponding column index (see example below). See other methods for a description of other keyword arguments.\n",
       "\n",
       "# Examples\n",
       "\n",
       "```jldoctest\n",
       "julia> df = DataFrame(x = [3, 1, 2, 1], y = [\"b\", \"c\", \"a\", \"b\"])\n",
       "4×2 DataFrame\n",
       "│ Row │ x     │ y      │\n",
       "│     │ Int64 │ String │\n",
       "├─────┼───────┼────────┤\n",
       "│ 1   │ 3     │ b      │\n",
       "│ 2   │ 1     │ c      │\n",
       "│ 3   │ 2     │ a      │\n",
       "│ 4   │ 1     │ b      │\n",
       "\n",
       "julia> sort!(df, :x)\n",
       "4×2 DataFrame\n",
       "│ Row │ x     │ y      │\n",
       "│     │ Int64 │ String │\n",
       "├─────┼───────┼────────┤\n",
       "│ 1   │ 1     │ c      │\n",
       "│ 2   │ 1     │ b      │\n",
       "│ 3   │ 2     │ a      │\n",
       "│ 4   │ 3     │ b      │\n",
       "\n",
       "julia> sort!(df, (:x, :y))\n",
       "4×2 DataFrame\n",
       "│ Row │ x     │ y      │\n",
       "│     │ Int64 │ String │\n",
       "├─────┼───────┼────────┤\n",
       "│ 1   │ 1     │ b      │\n",
       "│ 2   │ 1     │ c      │\n",
       "│ 3   │ 2     │ a      │\n",
       "│ 4   │ 3     │ b      │\n",
       "\n",
       "julia> sort!(df, (:x, :y), rev=true)\n",
       "4×2 DataFrame\n",
       "│ Row │ x     │ y      │\n",
       "│     │ Int64 │ String │\n",
       "├─────┼───────┼────────┤\n",
       "│ 1   │ 3     │ b      │\n",
       "│ 2   │ 2     │ a      │\n",
       "│ 3   │ 1     │ c      │\n",
       "│ 4   │ 1     │ b      │\n",
       "\n",
       "julia> sort!(df, (:x, order(:y, rev=true)))\n",
       "4×2 DataFrame\n",
       "│ Row │ x     │ y      │\n",
       "│     │ Int64 │ String │\n",
       "├─────┼───────┼────────┤\n",
       "│ 1   │ 1     │ c      │\n",
       "│ 2   │ 1     │ b      │\n",
       "│ 3   │ 2     │ a      │\n",
       "│ 4   │ 3     │ b      │\n",
       "```\n"
      ],
      "text/plain": [
       "\u001b[36m  sort!(v; alg::Algorithm=defalg(v), lt=isless, by=identity, rev::Bool=false, order::Ordering=Forward)\u001b[39m\n",
       "\n",
       "  Sort the vector \u001b[36mv\u001b[39m in place. \u001b[36mQuickSort\u001b[39m is used by default for numeric arrays\n",
       "  while \u001b[36mMergeSort\u001b[39m is used for other arrays. You can specify an algorithm to\n",
       "  use via the \u001b[36malg\u001b[39m keyword (see Sorting Algorithms for available algorithms).\n",
       "  The \u001b[36mby\u001b[39m keyword lets you provide a function that will be applied to each\n",
       "  element before comparison; the \u001b[36mlt\u001b[39m keyword allows providing a custom \"less\n",
       "  than\" function; use \u001b[36mrev=true\u001b[39m to reverse the sorting order. These options are\n",
       "  independent and can be used together in all possible combinations: if both\n",
       "  \u001b[36mby\u001b[39m and \u001b[36mlt\u001b[39m are specified, the \u001b[36mlt\u001b[39m function is applied to the result of the \u001b[36mby\u001b[39m\n",
       "  function; \u001b[36mrev=true\u001b[39m reverses whatever ordering specified via the \u001b[36mby\u001b[39m and \u001b[36mlt\u001b[39m\n",
       "  keywords.\n",
       "\n",
       "\u001b[1m  Examples\u001b[22m\n",
       "\u001b[1m  ≡≡≡≡≡≡≡≡≡≡\u001b[22m\n",
       "\n",
       "\u001b[36m  julia> v = [3, 1, 2]; sort!(v); v\u001b[39m\n",
       "\u001b[36m  3-element Array{Int64,1}:\u001b[39m\n",
       "\u001b[36m   1\u001b[39m\n",
       "\u001b[36m   2\u001b[39m\n",
       "\u001b[36m   3\u001b[39m\n",
       "\u001b[36m  \u001b[39m\n",
       "\u001b[36m  julia> v = [3, 1, 2]; sort!(v, rev = true); v\u001b[39m\n",
       "\u001b[36m  3-element Array{Int64,1}:\u001b[39m\n",
       "\u001b[36m   3\u001b[39m\n",
       "\u001b[36m   2\u001b[39m\n",
       "\u001b[36m   1\u001b[39m\n",
       "\u001b[36m  \u001b[39m\n",
       "\u001b[36m  julia> v = [(1, \"c\"), (3, \"a\"), (2, \"b\")]; sort!(v, by = x -> x[1]); v\u001b[39m\n",
       "\u001b[36m  3-element Array{Tuple{Int64,String},1}:\u001b[39m\n",
       "\u001b[36m   (1, \"c\")\u001b[39m\n",
       "\u001b[36m   (2, \"b\")\u001b[39m\n",
       "\u001b[36m   (3, \"a\")\u001b[39m\n",
       "\u001b[36m  \u001b[39m\n",
       "\u001b[36m  julia> v = [(1, \"c\"), (3, \"a\"), (2, \"b\")]; sort!(v, by = x -> x[2]); v\u001b[39m\n",
       "\u001b[36m  3-element Array{Tuple{Int64,String},1}:\u001b[39m\n",
       "\u001b[36m   (3, \"a\")\u001b[39m\n",
       "\u001b[36m   (2, \"b\")\u001b[39m\n",
       "\u001b[36m   (1, \"c\")\u001b[39m\n",
       "\n",
       "  ────────────────────────────────────────────────────────────────────────────\n",
       "\n",
       "\u001b[36m  sort!(A; dims::Integer, alg::Algorithm=defalg(v), lt=isless, by=identity, rev::Bool=false, order::Ordering=Forward)\u001b[39m\n",
       "\n",
       "  Sort the multidimensional array \u001b[36mA\u001b[39m along dimension \u001b[36mdims\u001b[39m. See \u001b[36msort!\u001b[39m for a\n",
       "  description of possible keyword arguments.\n",
       "\n",
       "  To sort slices of an array, refer to \u001b[36msortslices\u001b[39m.\n",
       "\n",
       "\u001b[39m\u001b[1m  │ \u001b[22m\u001b[39m\u001b[1mJulia 1.1\u001b[22m\n",
       "\u001b[39m\u001b[1m  │\u001b[22m\n",
       "\u001b[39m\u001b[1m  │\u001b[22m  This function requires at least Julia 1.1.\n",
       "\n",
       "\u001b[1m  Examples\u001b[22m\n",
       "\u001b[1m  ≡≡≡≡≡≡≡≡≡≡\u001b[22m\n",
       "\n",
       "\u001b[36m  julia> A = [4 3; 1 2]\u001b[39m\n",
       "\u001b[36m  2×2 Array{Int64,2}:\u001b[39m\n",
       "\u001b[36m   4  3\u001b[39m\n",
       "\u001b[36m   1  2\u001b[39m\n",
       "\u001b[36m  \u001b[39m\n",
       "\u001b[36m  julia> sort!(A, dims = 1); A\u001b[39m\n",
       "\u001b[36m  2×2 Array{Int64,2}:\u001b[39m\n",
       "\u001b[36m   1  2\u001b[39m\n",
       "\u001b[36m   4  3\u001b[39m\n",
       "\u001b[36m  \u001b[39m\n",
       "\u001b[36m  julia> sort!(A, dims = 2); A\u001b[39m\n",
       "\u001b[36m  2×2 Array{Int64,2}:\u001b[39m\n",
       "\u001b[36m   1  2\u001b[39m\n",
       "\u001b[36m   3  4\u001b[39m\n",
       "\n",
       "  ────────────────────────────────────────────────────────────────────────────\n",
       "\n",
       "\u001b[36m  sort(sol::DEMCBBSol, prob::DEMCBBProblem, i::Int=1)\u001b[39m\n",
       "\n",
       "  Sorts \u001b[36msol\u001b[39m and \u001b[36mprob\u001b[39m inplace by the values of the \u001b[36mi\u001b[39m-th parameter.\n",
       "\n",
       "  (In case the parameter is complex valued, it sorts by the absolute value of\n",
       "  the parameter)\n",
       "\n",
       "  ────────────────────────────────────────────────────────────────────────────\n",
       "\n",
       "\u001b[36m  sort(prob::DEMCBBProblem, i::Int=1)\u001b[39m\n",
       "\n",
       "  Sorts \u001b[36mprob\u001b[39m inplace by the values of the\u001b[36mi\u001b[39m-th paramater.\n",
       "\n",
       "  (In case the parameter is complex valued, it sorts by the absolute value of\n",
       "  the parameter)\n",
       "\n",
       "  ────────────────────────────────────────────────────────────────────────────\n",
       "\n",
       "\u001b[36m  sort!(cm::ClusterMembershipResult; ignore_first::Bool=false)\u001b[39m\n",
       "\n",
       "  Sorts \u001b[36mcm\u001b[39m inplace by the count of members of the clusters from low to high.\n",
       "  If \u001b[36mignore_first\u001b[39m is true, the first cluster (with DBSCAN this is the outlier\n",
       "  cluster) is ignored while sorting and remains the first cluster.\n",
       "\n",
       "  ────────────────────────────────────────────────────────────────────────────\n",
       "\n",
       "\u001b[36m  sort!(df::AbstractDataFrame, cols;\u001b[39m\n",
       "\u001b[36m        alg::Union{Algorithm, Nothing}=nothing, lt=isless, by=identity,\u001b[39m\n",
       "\u001b[36m        rev::Bool=false, order::Ordering=Forward)\u001b[39m\n",
       "\n",
       "  Sort data frame \u001b[36mdf\u001b[39m by column(s) \u001b[36mcols\u001b[39m. \u001b[36mcols\u001b[39m can be either a \u001b[36mSymbol\u001b[39m or \u001b[36mInteger\u001b[39m\n",
       "  column index, or a tuple or vector of such indices.\n",
       "\n",
       "  If \u001b[36malg\u001b[39m is \u001b[36mnothing\u001b[39m (the default), the most appropriate algorithm is chosen\n",
       "  automatically among \u001b[36mTimSort\u001b[39m, \u001b[36mMergeSort\u001b[39m and \u001b[36mRadixSort\u001b[39m depending on the type\n",
       "  of the sorting columns and on the number of rows in \u001b[36mdf\u001b[39m. If \u001b[36mrev\u001b[39m is \u001b[36mtrue\u001b[39m,\n",
       "  reverse sorting is performed. To enable reverse sorting only for some\n",
       "  columns, pass \u001b[36morder(c, rev=true)\u001b[39m in \u001b[36mcols\u001b[39m, with \u001b[36mc\u001b[39m the corresponding column\n",
       "  index (see example below). See other methods for a description of other\n",
       "  keyword arguments.\n",
       "\n",
       "\u001b[1m  Examples\u001b[22m\n",
       "\u001b[1m  ≡≡≡≡≡≡≡≡≡≡\u001b[22m\n",
       "\n",
       "\u001b[36m  julia> df = DataFrame(x = [3, 1, 2, 1], y = [\"b\", \"c\", \"a\", \"b\"])\u001b[39m\n",
       "\u001b[36m  4×2 DataFrame\u001b[39m\n",
       "\u001b[36m  │ Row │ x     │ y      │\u001b[39m\n",
       "\u001b[36m  │     │ Int64 │ String │\u001b[39m\n",
       "\u001b[36m  ├─────┼───────┼────────┤\u001b[39m\n",
       "\u001b[36m  │ 1   │ 3     │ b      │\u001b[39m\n",
       "\u001b[36m  │ 2   │ 1     │ c      │\u001b[39m\n",
       "\u001b[36m  │ 3   │ 2     │ a      │\u001b[39m\n",
       "\u001b[36m  │ 4   │ 1     │ b      │\u001b[39m\n",
       "\u001b[36m  \u001b[39m\n",
       "\u001b[36m  julia> sort!(df, :x)\u001b[39m\n",
       "\u001b[36m  4×2 DataFrame\u001b[39m\n",
       "\u001b[36m  │ Row │ x     │ y      │\u001b[39m\n",
       "\u001b[36m  │     │ Int64 │ String │\u001b[39m\n",
       "\u001b[36m  ├─────┼───────┼────────┤\u001b[39m\n",
       "\u001b[36m  │ 1   │ 1     │ c      │\u001b[39m\n",
       "\u001b[36m  │ 2   │ 1     │ b      │\u001b[39m\n",
       "\u001b[36m  │ 3   │ 2     │ a      │\u001b[39m\n",
       "\u001b[36m  │ 4   │ 3     │ b      │\u001b[39m\n",
       "\u001b[36m  \u001b[39m\n",
       "\u001b[36m  julia> sort!(df, (:x, :y))\u001b[39m\n",
       "\u001b[36m  4×2 DataFrame\u001b[39m\n",
       "\u001b[36m  │ Row │ x     │ y      │\u001b[39m\n",
       "\u001b[36m  │     │ Int64 │ String │\u001b[39m\n",
       "\u001b[36m  ├─────┼───────┼────────┤\u001b[39m\n",
       "\u001b[36m  │ 1   │ 1     │ b      │\u001b[39m\n",
       "\u001b[36m  │ 2   │ 1     │ c      │\u001b[39m\n",
       "\u001b[36m  │ 3   │ 2     │ a      │\u001b[39m\n",
       "\u001b[36m  │ 4   │ 3     │ b      │\u001b[39m\n",
       "\u001b[36m  \u001b[39m\n",
       "\u001b[36m  julia> sort!(df, (:x, :y), rev=true)\u001b[39m\n",
       "\u001b[36m  4×2 DataFrame\u001b[39m\n",
       "\u001b[36m  │ Row │ x     │ y      │\u001b[39m\n",
       "\u001b[36m  │     │ Int64 │ String │\u001b[39m\n",
       "\u001b[36m  ├─────┼───────┼────────┤\u001b[39m\n",
       "\u001b[36m  │ 1   │ 3     │ b      │\u001b[39m\n",
       "\u001b[36m  │ 2   │ 2     │ a      │\u001b[39m\n",
       "\u001b[36m  │ 3   │ 1     │ c      │\u001b[39m\n",
       "\u001b[36m  │ 4   │ 1     │ b      │\u001b[39m\n",
       "\u001b[36m  \u001b[39m\n",
       "\u001b[36m  julia> sort!(df, (:x, order(:y, rev=true)))\u001b[39m\n",
       "\u001b[36m  4×2 DataFrame\u001b[39m\n",
       "\u001b[36m  │ Row │ x     │ y      │\u001b[39m\n",
       "\u001b[36m  │     │ Int64 │ String │\u001b[39m\n",
       "\u001b[36m  ├─────┼───────┼────────┤\u001b[39m\n",
       "\u001b[36m  │ 1   │ 1     │ c      │\u001b[39m\n",
       "\u001b[36m  │ 2   │ 1     │ b      │\u001b[39m\n",
       "\u001b[36m  │ 3   │ 2     │ a      │\u001b[39m\n",
       "\u001b[36m  │ 4   │ 3     │ b      │\u001b[39m"
      ]
     },
     "execution_count": 8,
     "metadata": {},
     "output_type": "execute_result"
    }
   ],
   "source": [
    "?sort!"
   ]
  },
  {
   "cell_type": "code",
   "execution_count": 9,
   "metadata": {},
   "outputs": [
    {
     "ename": "ErrorException",
     "evalue": "No current plot/subplot",
     "output_type": "error",
     "traceback": [
      "No current plot/subplot",
      "",
      "Stacktrace:",
      " [1] error(::String) at ./error.jl:33",
      " [2] current at /home/max/.julia/packages/Plots/jWNMG/src/plot.jl:15 [inlined]",
      " [3] savefig(::String) at /home/max/.julia/packages/Plots/jWNMG/src/output.jl:123",
      " [4] top-level scope at In[9]:1"
     ]
    }
   ],
   "source": [
    "Plots.savefig(\"sl-cm-fine.pdf\")"
   ]
  },
  {
   "cell_type": "markdown",
   "metadata": {},
   "source": [
    "We dont plot clusters with less than 50 members. The most important clusters have the following indices: \n"
   ]
  },
  {
   "cell_type": "code",
   "execution_count": 10,
   "metadata": {},
   "outputs": [
    {
     "ename": "UndefVarError",
     "evalue": "UndefVarError: db_res_1 not defined",
     "output_type": "error",
     "traceback": [
      "UndefVarError: db_res_1 not defined",
      "",
      "Stacktrace:",
      " [1] top-level scope at In[10]:1"
     ]
    }
   ],
   "source": [
    "plot_index_c1 = [1; findall(db_res_1.counts .> 50) .+ 1] # outlier cluster + the others "
   ]
  },
  {
   "cell_type": "markdown",
   "metadata": {},
   "source": [
    "## Clustering 2 \n",
    "\n",
    "More coarser resolutions leeds to Part S / OD joining "
   ]
  },
  {
   "cell_type": "code",
   "execution_count": 11,
   "metadata": {},
   "outputs": [
    {
     "ename": "UndefVarError",
     "evalue": "UndefVarError: D_hist not defined",
     "output_type": "error",
     "traceback": [
      "UndefVarError: D_hist not defined",
      "",
      "Stacktrace:",
      " [1] top-level scope at In[11]:2"
     ]
    }
   ],
   "source": [
    "db_eps = 0.009\n",
    "db_res_2 = dbscan(D_hist,db_eps,10)\n",
    "db_res_2.counts"
   ]
  },
  {
   "cell_type": "code",
   "execution_count": 12,
   "metadata": {},
   "outputs": [
    {
     "ename": "UndefVarError",
     "evalue": "UndefVarError: prob not defined",
     "output_type": "error",
     "traceback": [
      "UndefVarError: prob not defined",
      "",
      "Stacktrace:",
      " [1] top-level scope at In[12]:2"
     ]
    }
   ],
   "source": [
    "Plots.pgfplots()\n",
    "cluster_members_2 = cluster_membership(prob, db_res_2, 0.025, 0.01; min_members = 90);\n",
    "\n",
    "Plots.plot(cluster_members_2, linecolor=\"white\", guidefontsize=14, legendfontsize=12, fillalpha=0.6, xlabel=L\"Coupling $K$\", label=[\"OD+PS\",\"Part. S\",\"SAC\",\"TW\",\"Outlier\"])\n"
   ]
  },
  {
   "cell_type": "code",
   "execution_count": 13,
   "metadata": {},
   "outputs": [
    {
     "ename": "ErrorException",
     "evalue": "No current plot/subplot",
     "output_type": "error",
     "traceback": [
      "No current plot/subplot",
      "",
      "Stacktrace:",
      " [1] error(::String) at ./error.jl:33",
      " [2] current at /home/max/.julia/packages/Plots/jWNMG/src/plot.jl:15 [inlined]",
      " [3] savefig(::String) at /home/max/.julia/packages/Plots/jWNMG/src/output.jl:123",
      " [4] top-level scope at In[13]:1"
     ]
    }
   ],
   "source": [
    "Plots.savefig(\"sl-cm-coarse.pdf\")"
   ]
  },
  {
   "cell_type": "markdown",
   "metadata": {},
   "source": [
    "# Backup: Even Finer \n",
    "\n",
    "We can resolve the transition \n",
    "\n"
   ]
  },
  {
   "cell_type": "code",
   "execution_count": 14,
   "metadata": {},
   "outputs": [
    {
     "ename": "UndefVarError",
     "evalue": "UndefVarError: D_hist not defined",
     "output_type": "error",
     "traceback": [
      "UndefVarError: D_hist not defined",
      "",
      "Stacktrace:",
      " [1] top-level scope at In[14]:2"
     ]
    }
   ],
   "source": [
    "db_eps = 0.008\n",
    "db_res_3 = dbscan(D_hist,db_eps,20)\n",
    "db_res_3.counts"
   ]
  },
  {
   "cell_type": "code",
   "execution_count": 15,
   "metadata": {},
   "outputs": [
    {
     "ename": "UndefVarError",
     "evalue": "UndefVarError: prob not defined",
     "output_type": "error",
     "traceback": [
      "UndefVarError: prob not defined",
      "",
      "Stacktrace:",
      " [1] top-level scope at In[15]:2"
     ]
    }
   ],
   "source": [
    "Plots.pgfplots()\n",
    "cluster_members_3 = cluster_membership(prob, db_res_3, 0.025, 0.01; min_members = 50);\n",
    "\n",
    "Plots.plot(cluster_members_3, linecolor=\"white\", fillalpha=0.6, guidefontsize= 14, legendfontsize=12, xlabel=L\"Coupling $K$\", label=[\"OD\",\"Part. S\",\"SAC\",\"TW\",\"Outlier\"])\n"
   ]
  },
  {
   "cell_type": "markdown",
   "metadata": {},
   "source": [
    "# Cluster Measure Histograms \n",
    "\n",
    "We do this with the finer resolustion of clustering 1\n",
    "\n",
    "First, the real part means. (Generally real and imaginary parts are very similar)\n"
   ]
  },
  {
   "cell_type": "code",
   "execution_count": 16,
   "metadata": {},
   "outputs": [
    {
     "ename": "UndefVarError",
     "evalue": "UndefVarError: prob not defined",
     "output_type": "error",
     "traceback": [
      "UndefVarError: prob not defined",
      "",
      "Stacktrace:",
      " [1] top-level scope at In[16]:1"
     ]
    }
   ],
   "source": [
    " shists = cluster_measures_sliding_histograms(prob, sol, db_res_1, 1, 0.025, 0.01; k_bin=2.);"
   ]
  },
  {
   "cell_type": "code",
   "execution_count": 17,
   "metadata": {},
   "outputs": [
    {
     "ename": "UndefVarError",
     "evalue": "UndefVarError: plot_index_c1 not defined",
     "output_type": "error",
     "traceback": [
      "UndefVarError: plot_index_c1 not defined",
      "",
      "Stacktrace:",
      " [1] top-level scope at In[17]:3"
     ]
    }
   ],
   "source": [
    "l = @layout [a; b; c; d; e]\n",
    "Plots.pyplot()\n",
    "# double check: titles/clusters could change orders \n",
    "p1 = Plots.plot(shists, plot_index_c1[1], c=:viridis, title=string(L\"$\\mu(Re(x_i))$ of \", clabels[1] ,\" Cluster\"), xlabel=\"Coupling K\", ylabel=\"Value of Std\")\n",
    "p2 = Plots.plot(shists, plot_index_c1[2], c=:viridis, title=string(L\"$\\mu(Re(x_i))$ of \", clabels[2] ,\" Cluster\"), xlabel=\"Coupling K\", ylabel=\"Value of Std\")\n",
    "p3 = Plots.plot(shists, plot_index_c1[3], c=:viridis, title=string(L\"$\\mu(Re(x_i))$ of \", clabels[3] ,\" Cluster\"), xlabel=\"Coupling K\", ylabel=\"Value of Std\")\n",
    "p4 = Plots.plot(shists, plot_index_c1[4], c=:viridis, title=string(L\"$\\mu(Re(x_i))$ of \", clabels[4] ,\" Cluster\"), xlabel=\"Coupling K\", ylabel=\"Value of Std\")\n",
    "p5 = Plots.plot(shists, plot_index_c1[5], c=:viridis, title=string(L\"$\\mu(Re(x_i))$ of \", clabels[5] ,\" Cluster\"), xlabel=\"Coupling K\", ylabel=\"Value of Std\")\n",
    "\n",
    "\n",
    "Plots.plot(p1, p2, p3, p4, p5, layout = l, size=(400,1200))"
   ]
  },
  {
   "cell_type": "code",
   "execution_count": 18,
   "metadata": {},
   "outputs": [
    {
     "ename": "ErrorException",
     "evalue": "No current plot/subplot",
     "output_type": "error",
     "traceback": [
      "No current plot/subplot",
      "",
      "Stacktrace:",
      " [1] error(::String) at ./error.jl:33",
      " [2] current at /home/max/.julia/packages/Plots/jWNMG/src/plot.jl:15 [inlined]",
      " [3] savefig(::String) at /home/max/.julia/packages/Plots/jWNMG/src/output.jl:123",
      " [4] top-level scope at In[18]:1"
     ]
    }
   ],
   "source": [
    "Plots.savefig(\"sl-hists-mean.pdf\")"
   ]
  },
  {
   "cell_type": "markdown",
   "metadata": {},
   "source": [
    "Now, the Stds"
   ]
  },
  {
   "cell_type": "code",
   "execution_count": 19,
   "metadata": {},
   "outputs": [
    {
     "ename": "UndefVarError",
     "evalue": "UndefVarError: prob not defined",
     "output_type": "error",
     "traceback": [
      "UndefVarError: prob not defined",
      "",
      "Stacktrace:",
      " [1] top-level scope at In[19]:2"
     ]
    }
   ],
   "source": [
    "l = @layout [a; b; c; d; e]\n",
    "\n",
    "shists = cluster_measures_sliding_histograms(prob, sol, db_res_1, 2, 0.025, 0.01; k_bin=2.);\n",
    "# double check: titles/clusters could change orders \n",
    "p1 = Plots.plot(shists, plot_index_c1[1], c=:viridis, title=string(L\"$\\sigma(Re(x_i))$ of \", clabels[1] ,\" Cluster\"), xlabel=\"Coupling K\", ylabel=\"Value of Std\")\n",
    "p2 = Plots.plot(shists, plot_index_c1[2], c=:viridis, title=string(L\"$\\sigma(Re(x_i))$ of \", clabels[2] ,\" Cluster\"), xlabel=\"Coupling K\", ylabel=\"Value of Std\")\n",
    "p3 = Plots.plot(shists, plot_index_c1[3], c=:viridis, title=string(L\"$\\sigma(Re(x_i))$ of \", clabels[3] ,\" Cluster\"), xlabel=\"Coupling K\", ylabel=\"Value of Std\")\n",
    "p4 = Plots.plot(shists, plot_index_c1[4], c=:viridis, title=string(L\"$\\sigma(Re(x_i))$ of \", clabels[4] ,\" Cluster\"), xlabel=\"Coupling K\", ylabel=\"Value of Std\")\n",
    "p5 = Plots.plot(shists, plot_index_c1[5], c=:viridis, title=string(L\"$\\sigma(Re(x_i))$ of \", clabels[5] ,\" Cluster\"), xlabel=\"Coupling K\", ylabel=\"Value of Std\")\n",
    "\n",
    "\n",
    "Plots.plot(p1, p2, p3, p4, p5, layout = l, size=(400,1200))"
   ]
  },
  {
   "cell_type": "code",
   "execution_count": 20,
   "metadata": {},
   "outputs": [
    {
     "ename": "ErrorException",
     "evalue": "No current plot/subplot",
     "output_type": "error",
     "traceback": [
      "No current plot/subplot",
      "",
      "Stacktrace:",
      " [1] error(::String) at ./error.jl:33",
      " [2] current at /home/max/.julia/packages/Plots/jWNMG/src/plot.jl:15 [inlined]",
      " [3] savefig(::String) at /home/max/.julia/packages/Plots/jWNMG/src/output.jl:123",
      " [4] top-level scope at In[20]:1"
     ]
    }
   ],
   "source": [
    "Plots.savefig(\"sl-hists-std.pdf\")"
   ]
  },
  {
   "cell_type": "markdown",
   "metadata": {},
   "source": [
    "Next, we ll look at the average measures for each cluster and its std"
   ]
  },
  {
   "cell_type": "code",
   "execution_count": 21,
   "metadata": {},
   "outputs": [
    {
     "ename": "UndefVarError",
     "evalue": "UndefVarError: sol not defined",
     "output_type": "error",
     "traceback": [
      "UndefVarError: sol not defined",
      "",
      "Stacktrace:",
      " [1] top-level scope at In[21]:4"
     ]
    }
   ],
   "source": [
    "colororder = [\"blue\",\"orange\",\"green\",\"red\",\"purple\",\"brown\",\"magenta\",\"olive\",\"cyan\"]\n",
    "measure_1 = 1\n",
    "measure_2 = 2\n",
    "\n",
    "m1m = cluster_measure_mean(sol, db_res_1, measure_1)[plot_index_c1]\n",
    "m1sd = cluster_measure_std(sol, db_res_1, measure_1)[plot_index_c1]\n",
    "m2m = cluster_measure_mean(sol, db_res_1, measure_2)[plot_index_c1]\n",
    "m2sd = cluster_measure_std(sol, db_res_1, measure_2)[plot_index_c1]\n",
    "\n",
    "SC = PyPlot.scatter(m1m, m2m, c=colororder[1:length(m1m)])\n",
    "#PyPlot.legend(SC,[\"Noise\",\"2\",\"3\",\"4\",\"5\",\"6\",\"7\",\"8\",\"9\",\"10\",\"11\"])\n",
    "\n",
    "PyPlot.errorbar(m1m[1], m2m[1], fmt=\"o\", ms=0,ecolor=colororder[1], xerr=0.005*m1sd[1], yerr=m2sd[1], label=clabels[1])\n",
    "PyPlot.errorbar(m1m[2], m2m[2], fmt=\"o\", ms=0,ecolor=colororder[2], xerr=0.005*m1sd[2], yerr=m2sd[2], label=clabels[2])\n",
    "PyPlot.errorbar(m1m[3], m2m[3], fmt=\"o\", ms=0,ecolor=colororder[3], xerr=0.005*m1sd[3], yerr=m2sd[3], label=clabels[3])\n",
    "PyPlot.errorbar(m1m[4], m2m[4], fmt=\"o\", ms=0,ecolor=colororder[4], xerr=0.005*m1sd[4], yerr=m2sd[4], label=clabels[4])\n",
    "PyPlot.errorbar(m1m[5], m2m[5], fmt=\"o\", ms=0,ecolor=colororder[5], xerr=0.005*m1sd[5], yerr=m2sd[5], label=clabels[5])\n",
    "\n",
    "PyPlot.legend()\n",
    "PyPlot.xlabel(\"Average Mean\")\n",
    "PyPlot.ylabel(\"Average Std\")"
   ]
  },
  {
   "cell_type": "markdown",
   "metadata": {},
   "source": [
    "# Example Trajectories "
   ]
  },
  {
   "cell_type": "code",
   "execution_count": 22,
   "metadata": {},
   "outputs": [
    {
     "name": "stdout",
     "output_type": "stream",
     "text": [
      "search: \u001b[0m\u001b[1mg\u001b[22m\u001b[0m\u001b[1me\u001b[22m\u001b[0m\u001b[1mt\u001b[22m\u001b[0m\u001b[1m_\u001b[22m\u001b[0m\u001b[1mt\u001b[22m\u001b[0m\u001b[1mr\u001b[22m\u001b[0m\u001b[1ma\u001b[22m\u001b[0m\u001b[1mj\u001b[22m\u001b[0m\u001b[1me\u001b[22m\u001b[0m\u001b[1mc\u001b[22m\u001b[0m\u001b[1mt\u001b[22m\u001b[0m\u001b[1mo\u001b[22m\u001b[0m\u001b[1mr\u001b[22m\u001b[0m\u001b[1my\u001b[22m\n",
      "\n"
     ]
    },
    {
     "data": {
      "text/latex": [
       "\\begin{verbatim}\n",
       "get_trajectory(prob::MCBBProblem, sol::MCBBSol, clusters::ClusteringResult, i::Int; only_sol::Bool=true)\n",
       "\\end{verbatim}\n",
       "Solves and returns a trajectory that is classified in cluster \\texttt{i}. Randomly selects one IC/Parameter configuration, so that mulitple executions of this routine will yield different results! If \\texttt{only\\_sol==true} it returns only the solution, otherwise it returns a tuple \\texttt{(solution, problem, i\\_run)} where \\texttt{i\\_run} is the number of the trial in \\texttt{prob} and \\texttt{sol}.\n",
       "\n",
       "\\begin{verbatim}\n",
       "get_trajectory(prob::MCBBProblem, sol::MCBBSol, i::Int, only_sol::Bool=true)\n",
       "\\end{verbatim}\n",
       "Solves problem \\texttt{i} and returns a trajectory. If \\texttt{only\\_sol==true} it returns only the solution, otherwise it returns a tuple \\texttt{(solution, problem, i\\_run)} where \\texttt{i\\_run} is the number of the trial in \\texttt{prob} and \\texttt{sol}.\n",
       "\n",
       "\\section{Example}\n",
       "Plot with e.g\n",
       "\n",
       "\\begin{verbatim}\n",
       "using PyPlot\n",
       "IM = imshow(Matrix(get_trajectory(prob,sol,db_res,1)), aspect=2)\n",
       "ylabel(\"System Dimension i\")\n",
       "xlabel(\"Time t\")\n",
       "cb = colorbar(IM, orientation=\"horizontal\")\n",
       "cb[:ax][:set_xlabel](\"Colorbar: Im(z)\", rotation=0)\n",
       "\\end{verbatim}\n"
      ],
      "text/markdown": [
       "```\n",
       "get_trajectory(prob::MCBBProblem, sol::MCBBSol, clusters::ClusteringResult, i::Int; only_sol::Bool=true)\n",
       "```\n",
       "\n",
       "Solves and returns a trajectory that is classified in cluster `i`. Randomly selects one IC/Parameter configuration, so that mulitple executions of this routine will yield different results! If `only_sol==true` it returns only the solution, otherwise it returns a tuple `(solution, problem, i_run)` where `i_run` is the number of the trial in `prob` and `sol`.\n",
       "\n",
       "```\n",
       "get_trajectory(prob::MCBBProblem, sol::MCBBSol, i::Int, only_sol::Bool=true)\n",
       "```\n",
       "\n",
       "Solves problem `i` and returns a trajectory. If `only_sol==true` it returns only the solution, otherwise it returns a tuple `(solution, problem, i_run)` where `i_run` is the number of the trial in `prob` and `sol`.\n",
       "\n",
       "# Example\n",
       "\n",
       "Plot with e.g\n",
       "\n",
       "```\n",
       "using PyPlot\n",
       "IM = imshow(Matrix(get_trajectory(prob,sol,db_res,1)), aspect=2)\n",
       "ylabel(\"System Dimension i\")\n",
       "xlabel(\"Time t\")\n",
       "cb = colorbar(IM, orientation=\"horizontal\")\n",
       "cb[:ax][:set_xlabel](\"Colorbar: Im(z)\", rotation=0)\n",
       "```\n"
      ],
      "text/plain": [
       "\u001b[36m  get_trajectory(prob::MCBBProblem, sol::MCBBSol, clusters::ClusteringResult, i::Int; only_sol::Bool=true)\u001b[39m\n",
       "\n",
       "  Solves and returns a trajectory that is classified in cluster \u001b[36mi\u001b[39m. Randomly\n",
       "  selects one IC/Parameter configuration, so that mulitple executions of this\n",
       "  routine will yield different results! If \u001b[36monly_sol==true\u001b[39m it returns only the\n",
       "  solution, otherwise it returns a tuple \u001b[36m(solution, problem, i_run)\u001b[39m where\n",
       "  \u001b[36mi_run\u001b[39m is the number of the trial in \u001b[36mprob\u001b[39m and \u001b[36msol\u001b[39m.\n",
       "\n",
       "\u001b[36m  get_trajectory(prob::MCBBProblem, sol::MCBBSol, i::Int, only_sol::Bool=true)\u001b[39m\n",
       "\n",
       "  Solves problem \u001b[36mi\u001b[39m and returns a trajectory. If \u001b[36monly_sol==true\u001b[39m it returns only\n",
       "  the solution, otherwise it returns a tuple \u001b[36m(solution, problem, i_run)\u001b[39m where\n",
       "  \u001b[36mi_run\u001b[39m is the number of the trial in \u001b[36mprob\u001b[39m and \u001b[36msol\u001b[39m.\n",
       "\n",
       "\u001b[1m  Example\u001b[22m\n",
       "\u001b[1m  ≡≡≡≡≡≡≡≡≡\u001b[22m\n",
       "\n",
       "  Plot with e.g\n",
       "\n",
       "\u001b[36m  using PyPlot\u001b[39m\n",
       "\u001b[36m  IM = imshow(Matrix(get_trajectory(prob,sol,db_res,1)), aspect=2)\u001b[39m\n",
       "\u001b[36m  ylabel(\"System Dimension i\")\u001b[39m\n",
       "\u001b[36m  xlabel(\"Time t\")\u001b[39m\n",
       "\u001b[36m  cb = colorbar(IM, orientation=\"horizontal\")\u001b[39m\n",
       "\u001b[36m  cb[:ax][:set_xlabel](\"Colorbar: Im(z)\", rotation=0)\u001b[39m"
      ]
     },
     "execution_count": 22,
     "metadata": {},
     "output_type": "execute_result"
    }
   ],
   "source": [
    "?get_trajectory"
   ]
  },
  {
   "cell_type": "code",
   "execution_count": 23,
   "metadata": {},
   "outputs": [
    {
     "ename": "UndefVarError",
     "evalue": "UndefVarError: plot_index_c1 not defined",
     "output_type": "error",
     "traceback": [
      "UndefVarError: plot_index_c1 not defined",
      "",
      "Stacktrace:",
      " [1] top-level scope at In[23]:1"
     ]
    }
   ],
   "source": [
    "traj1 = get_trajectory(prob, sol, db_res_1, plot_index_c1[2])\n",
    "IM = PyPlot.imshow(Matrix(imag.(traj1)))\n",
    "PyPlot.ylabel(L\"Oscillator $i$\",fontsize=20) \n",
    "PyPlot.xlabel(L\"Time $t$\",fontsize=20)\n",
    "PyPlot.title(string(\"Example Trajectory - \",clabels[2]), fontsize=20)\n",
    "cb = PyPlot.colorbar(IM, orientation=\"horizontal\")\n",
    "cb[:ax][:set_ylabel](\"Im(z)\", fontsize=20)\n",
    "PyPlot.savefig(\"traj-tw.pdf\")"
   ]
  },
  {
   "cell_type": "code",
   "execution_count": null,
   "metadata": {},
   "outputs": [],
   "source": []
  },
  {
   "cell_type": "code",
   "execution_count": 24,
   "metadata": {},
   "outputs": [
    {
     "ename": "UndefVarError",
     "evalue": "UndefVarError: plot_index_c1 not defined",
     "output_type": "error",
     "traceback": [
      "UndefVarError: plot_index_c1 not defined",
      "",
      "Stacktrace:",
      " [1] top-level scope at In[24]:1"
     ]
    }
   ],
   "source": [
    "traj2 = get_trajectory(prob, sol, db_res_1, plot_index_c1[3])\n",
    "IM = PyPlot.imshow(Matrix(imag.(traj2)))\n",
    "PyPlot.ylabel(L\"Oscillator $i$\",fontsize=20) \n",
    "PyPlot.xlabel(L\"Time $t$\",fontsize=20)\n",
    "PyPlot.title(string(\"Example Trajectory - \",clabels[3]), fontsize=20)\n",
    "cb = PyPlot.colorbar(IM, orientation=\"horizontal\")\n",
    "cb[:ax][:set_ylabel](\"Im(z)\", fontsize=20)\n",
    "PyPlot.savefig(\"traj-rcsw.pdf\")\n",
    "#savefig(\"trajectory-ac.pdf\")"
   ]
  },
  {
   "cell_type": "code",
   "execution_count": null,
   "metadata": {},
   "outputs": [],
   "source": []
  },
  {
   "cell_type": "code",
   "execution_count": 25,
   "metadata": {},
   "outputs": [
    {
     "ename": "UndefVarError",
     "evalue": "UndefVarError: plot_index_c1 not defined",
     "output_type": "error",
     "traceback": [
      "UndefVarError: plot_index_c1 not defined",
      "",
      "Stacktrace:",
      " [1] top-level scope at In[25]:1"
     ]
    }
   ],
   "source": [
    "traj3 = get_trajectory(prob, sol, db_res_1, plot_index_c1[4])\n",
    "IM = PyPlot.imshow(Matrix(imag.(traj3)))\n",
    "PyPlot.ylabel(L\"Oscillator $i$\",fontsize=20) \n",
    "PyPlot.xlabel(L\"Time $t$\",fontsize=20)\n",
    "PyPlot.title(string(\"Example Trajectory - \",clabels[4]), fontsize=20)\n",
    "cb = PyPlot.colorbar(IM, orientation=\"horizontal\")\n",
    "cb[:ax][:set_ylabel](\"Im(z)\", fontsize=20)\n",
    "PyPlot.savefig(\"traj-ps.pdf\")\n"
   ]
  },
  {
   "cell_type": "code",
   "execution_count": null,
   "metadata": {},
   "outputs": [],
   "source": []
  },
  {
   "cell_type": "code",
   "execution_count": 26,
   "metadata": {},
   "outputs": [
    {
     "ename": "UndefVarError",
     "evalue": "UndefVarError: plot_index_c1 not defined",
     "output_type": "error",
     "traceback": [
      "UndefVarError: plot_index_c1 not defined",
      "",
      "Stacktrace:",
      " [1] top-level scope at In[26]:1"
     ]
    }
   ],
   "source": [
    "traj4 = get_trajectory(prob, sol, db_res_1, plot_index_c1[5])\n",
    "IM = PyPlot.imshow(Matrix(imag.(traj4)))\n",
    "PyPlot.ylabel(L\"Oscillator $i$\",fontsize=20) \n",
    "PyPlot.xlabel(L\"Time $t$\",fontsize=20)\n",
    "PyPlot.title(string(\"Example Trajectory - \",clabels[5]), fontsize=20)\n",
    "cb = PyPlot.colorbar(IM, orientation=\"horizontal\")\n",
    "cb[:ax][:set_ylabel](\"Im(z)\", fontsize=20)\n",
    "PyPlot.savefig(\"traj-od.pdf\")"
   ]
  },
  {
   "cell_type": "code",
   "execution_count": 27,
   "metadata": {},
   "outputs": [
    {
     "ename": "ErrorException",
     "evalue": "No current plot/subplot",
     "output_type": "error",
     "traceback": [
      "No current plot/subplot",
      "",
      "Stacktrace:",
      " [1] error(::String) at ./error.jl:33",
      " [2] current at /home/max/.julia/packages/Plots/jWNMG/src/plot.jl:15 [inlined]",
      " [3] savefig(::String) at /home/max/.julia/packages/Plots/jWNMG/src/output.jl:123",
      " [4] top-level scope at In[27]:1"
     ]
    }
   ],
   "source": [
    "Plots.savefig(\"traj-od.pdf\")"
   ]
  },
  {
   "cell_type": "markdown",
   "metadata": {},
   "source": [
    "## Cluster Measures\n",
    "\n",
    "(not in the paper / or only in appendix)"
   ]
  },
  {
   "cell_type": "code",
   "execution_count": 28,
   "metadata": {},
   "outputs": [
    {
     "ename": "UndefVarError",
     "evalue": "UndefVarError: prob not defined",
     "output_type": "error",
     "traceback": [
      "UndefVarError: prob not defined",
      "",
      "Stacktrace:",
      " [1] top-level scope at In[28]:1"
     ]
    }
   ],
   "source": [
    "cmr = cluster_measures(prob, sol, db_res_1, 0.025, 0.01);"
   ]
  },
  {
   "cell_type": "code",
   "execution_count": 29,
   "metadata": {},
   "outputs": [
    {
     "ename": "UndefVarError",
     "evalue": "UndefVarError: plot_index_c1 not defined",
     "output_type": "error",
     "traceback": [
      "UndefVarError: plot_index_c1 not defined",
      "",
      "Stacktrace:",
      " [1] top-level scope at ./In[29]:5"
     ]
    }
   ],
   "source": [
    "#fig = figure(figsize=(10,10))\n",
    "xlimits = [1.8,2.6];\n",
    "ylimits_means = [-1,1];\n",
    "plotis = []\n",
    "for (i,j) in enumerate(plot_index_c1)\n",
    "    #subplot(4,2,i)\n",
    "   # plot(cmr.par, collect(cmr.cluster_measures[i,6,:,:]'), alpha=0.5);\n",
    "    #plot(p_win, collect(cluster_measures_global[i,1,:,:]'), alpha=0.5);\n",
    "    push!(plotis, Plots.plot(cmr, 1, j, xlims=xlimits, ylims=ylimits_means, title=clabels[i], ylabel=\"Mean\", xlabel=\"Coupling K\"))\n",
    "    #xlim(xlimits[1],xlimits[2]);\n",
    "    #ylim(ylimits_means[1],ylimits_means[2]);\n",
    "end\n",
    "\n",
    "\n",
    "Plots.plot(plotis...)\n"
   ]
  },
  {
   "cell_type": "code",
   "execution_count": null,
   "metadata": {},
   "outputs": [],
   "source": []
  },
  {
   "cell_type": "code",
   "execution_count": 30,
   "metadata": {},
   "outputs": [
    {
     "ename": "ErrorException",
     "evalue": "No current plot/subplot",
     "output_type": "error",
     "traceback": [
      "No current plot/subplot",
      "",
      "Stacktrace:",
      " [1] error(::String) at ./error.jl:33",
      " [2] current at /home/max/.julia/packages/Plots/jWNMG/src/plot.jl:15 [inlined]",
      " [3] savefig(::String) at /home/max/.julia/packages/Plots/jWNMG/src/output.jl:123",
      " [4] top-level scope at In[30]:1"
     ]
    }
   ],
   "source": [
    "Plots.savefig(\"sl-1d-cl-means.pdf\")"
   ]
  },
  {
   "cell_type": "code",
   "execution_count": 31,
   "metadata": {},
   "outputs": [
    {
     "ename": "UndefVarError",
     "evalue": "UndefVarError: plot_index_c1 not defined",
     "output_type": "error",
     "traceback": [
      "UndefVarError: plot_index_c1 not defined",
      "",
      "Stacktrace:",
      " [1] top-level scope at ./In[31]:5"
     ]
    }
   ],
   "source": [
    "#fig = figure(figsize=(10,10))\n",
    "xlimits = [1.8,2.6];\n",
    "ylimits_means = [0,1.1];\n",
    "plotis = []\n",
    "for (j,i) in enumerate(plot_index_c1)\n",
    "    #subplot(4,2,i)\n",
    "   # plot(cmr.par, collect(cmr.cluster_measures[i,6,:,:]'), alpha=0.5);\n",
    "    #plot(p_win, collect(cluster_measures_global[i,1,:,:]'), alpha=0.5);\n",
    "    push!(plotis, Plots.plot(cmr, 2, i, xlims=xlimits, ylims=ylimits_means, title=clabels[j], ylabel=\"Std\", xlabel=\"Coupling K\"))\n",
    "    #xlim(xlimits[1],xlimits[2]);\n",
    "    #ylim(ylimits_means[1],ylimits_means[2]);\n",
    "end\n",
    "\n",
    "\n",
    "Plots.plot(plotis...)\n",
    "Plots.savefig(\"sl-1d-cl-std.pdf\")"
   ]
  },
  {
   "cell_type": "code",
   "execution_count": 32,
   "metadata": {},
   "outputs": [
    {
     "ename": "ErrorException",
     "evalue": "No current plot/subplot",
     "output_type": "error",
     "traceback": [
      "No current plot/subplot",
      "",
      "Stacktrace:",
      " [1] error(::String) at ./error.jl:33",
      " [2] current at /home/max/.julia/packages/Plots/jWNMG/src/plot.jl:15 [inlined]",
      " [3] savefig(::String) at /home/max/.julia/packages/Plots/jWNMG/src/output.jl:123",
      " [4] top-level scope at In[32]:1"
     ]
    }
   ],
   "source": [
    "Plots.savefig(\"sl-1d-cl-std.pdf\")"
   ]
  }
 ],
 "metadata": {
  "@webio": {
   "lastCommId": null,
   "lastKernelId": null
  },
  "kernelspec": {
   "display_name": "Julia 1.1.0",
   "language": "julia",
   "name": "julia-1.1"
  },
  "language_info": {
   "file_extension": ".jl",
   "mimetype": "application/julia",
   "name": "julia",
   "version": "1.1.0"
  }
 },
 "nbformat": 4,
 "nbformat_minor": 2
}
