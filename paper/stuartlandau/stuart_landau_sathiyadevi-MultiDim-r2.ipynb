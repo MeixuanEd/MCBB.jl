{
 "cells": [
  {
   "cell_type": "markdown",
   "metadata": {},
   "source": [
    "# Stuart Landau Example \n",
    "\n",
    "This notebook contains the 2D-Stuart-Landau example from the MCBB paper that varies $r_2$. For all details please see the paper. The other Stuart Landau configurations are in seperate files\n",
    "\n",
    "For loading the saved jld files use the branch `old-state-sl-paper` of MCBB. "
   ]
  },
  {
   "cell_type": "code",
   "execution_count": 1,
   "metadata": {
    "tags": [
     "export"
    ]
   },
   "outputs": [
    {
     "name": "stderr",
     "output_type": "stream",
     "text": [
      "┌ Warning: read type ODEFunction{true,typeof(stuart_landau_sathiyadevi!),UniformScaling{Bool},Nothing,Nothing,Nothing,Nothing,Nothing,Nothing,Nothing,Nothing,TCV} where TCV is not a leaf type in workspace; reconstructing\n",
      "└ @ JLD2 /home/max/.julia/packages/JLD2/KjBIK/src/data.jl:477\n",
      "┌ Warning: some parameters could not be resolved for type EnsembleProblem{ODEProblem{Array{Complex{Float64},1},Tuple{Float64,Float64},true,stuart_landau_sathiyadevi_pars,getfield(JLD2.ReconstructedTypes, Symbol(\"##ODEFunction{true,typeof(stuart_landau_sathiyadevi!),UniformScaling{Bool},Nothing,Nothing,Nothing,Nothing,Nothing,Nothing,Nothing,Nothing,TCV} where TCV#363\")),Nothing,DiffEqBase.StandardODEProblem},getfield(MCBB, Symbol(\"#new_problem#37\")){Array{Complex{Float64},2},Array{Float64,2},stuart_landau_sathiyadevi_pars,Int64,Array{getfield(MCBB, Symbol(\"##39#40\")){getfield(Main, Symbol(\"##9#10\"))},1},MultiDimParameterVarFunc},typeof(eval_ode_run_stuart),DiffEqBase.##388#394,Array{Any,1}}; reconstructing\n",
      "└ @ JLD2 /home/max/.julia/packages/JLD2/KjBIK/src/data.jl:1143\n"
     ]
    },
    {
     "ename": "MethodError",
     "evalue": "MethodError: Cannot `convert` an object of type getfield(JLD2.ReconstructedTypes, Symbol(\"##EnsembleProblem{ODEProblem{Array{Complex{Float64},1},Tuple{Float64,Float64},true,stuart_landau_sathiyadevi_pars,getfield(JLD2.ReconstructedTypes, Symbol(\"##ODEFunction{true,typeof(stuart_landau_sathiyadevi!),UniformScaling{Bool},Nothing,Nothing,Nothing,Nothing,Nothing,Nothing,Nothing,Nothing,TCV} where TCV#363\")),Nothing,DiffEqBase.StandardODEProblem},getfield(MCBB, Symbol(\"#new_problem#37\")){Array{Complex{Float64},2},Array{Float64,2},stuart_landau_sathiyadevi_pars,Int64,Array{getfield(MCBB, Symbol(\"##39#40\")){getfield(Main, Symbol(\"##9#10\"))},1},MultiDimParameterVarFunc},typeof(eval_ode_run_stuart),DiffEqBase.##388#394,Array{Any,1}}#364\")) to an object of type EnsembleProblem\nClosest candidates are:\n  convert(::Type{T}, !Matched::T) where T at essentials.jl:154\n  EnsembleProblem(::T, !Matched::T2, !Matched::T3, !Matched::T4, !Matched::T5) where {T, T2, T3, T4, T5} at /home/max/.julia/packages/DiffEqBase/DqkH4/src/ensemble/ensemble_problems.jl:2\n  EnsembleProblem(::Any...) at deprecated.jl:55",
     "output_type": "error",
     "traceback": [
      "MethodError: Cannot `convert` an object of type getfield(JLD2.ReconstructedTypes, Symbol(\"##EnsembleProblem{ODEProblem{Array{Complex{Float64},1},Tuple{Float64,Float64},true,stuart_landau_sathiyadevi_pars,getfield(JLD2.ReconstructedTypes, Symbol(\"##ODEFunction{true,typeof(stuart_landau_sathiyadevi!),UniformScaling{Bool},Nothing,Nothing,Nothing,Nothing,Nothing,Nothing,Nothing,Nothing,TCV} where TCV#363\")),Nothing,DiffEqBase.StandardODEProblem},getfield(MCBB, Symbol(\"#new_problem#37\")){Array{Complex{Float64},2},Array{Float64,2},stuart_landau_sathiyadevi_pars,Int64,Array{getfield(MCBB, Symbol(\"##39#40\")){getfield(Main, Symbol(\"##9#10\"))},1},MultiDimParameterVarFunc},typeof(eval_ode_run_stuart),DiffEqBase.##388#394,Array{Any,1}}#364\")) to an object of type EnsembleProblem\nClosest candidates are:\n  convert(::Type{T}, !Matched::T) where T at essentials.jl:154\n  EnsembleProblem(::T, !Matched::T2, !Matched::T3, !Matched::T4, !Matched::T5) where {T, T2, T3, T4, T5} at /home/max/.julia/packages/DiffEqBase/DqkH4/src/ensemble/ensemble_problems.jl:2\n  EnsembleProblem(::Any...) at deprecated.jl:55",
      "",
      "Stacktrace:",
      " [1] jlconvert at /home/max/.julia/packages/JLD2/KjBIK/src/data.jl:675 [inlined]",
      " [2] macro expansion at /home/max/.julia/packages/JLD2/KjBIK/src/data.jl:1285 [inlined]",
      " [3] jlconvert(::JLD2.ReadRepresentation{DEMCBBProblem,JLD2.OnDiskRepresentation{(0, 8, 16, 24, 32, 40),Tuple{EnsembleProblem,Int64,Float64,AbstractArray,AbstractArray,ParameterVar},Tuple{JLD2.RelOffset,Int64,Float64,JLD2.RelOffset,JLD2.RelOffset,JLD2.RelOffset}}()}, ::JLD2.JLDFile{JLD2.MmapIO}, ::Ptr{Nothing}, ::JLD2.RelOffset) at /home/max/.julia/packages/JLD2/KjBIK/src/data.jl:1232",
      " [4] read_data(::JLD2.JLDFile{JLD2.MmapIO}, ::JLD2.ReadRepresentation{DEMCBBProblem,JLD2.OnDiskRepresentation{(0, 8, 16, 24, 32, 40),Tuple{EnsembleProblem,Int64,Float64,AbstractArray,AbstractArray,ParameterVar},Tuple{JLD2.RelOffset,Int64,Float64,JLD2.RelOffset,JLD2.RelOffset,JLD2.RelOffset}}()}, ::Array{JLD2.ReadAttribute,1}) at /home/max/.julia/packages/JLD2/KjBIK/src/dataio.jl:37",
      " [5] read_data(::JLD2.JLDFile{JLD2.MmapIO}, ::JLD2.ReadDataspace, ::UInt8, ::Int64, ::Int64, ::Int64, ::UInt16, ::JLD2.RelOffset, ::Array{JLD2.ReadAttribute,1}) at /home/max/.julia/packages/JLD2/KjBIK/src/datasets.jl:149",
      " [6] load_dataset(::JLD2.JLDFile{JLD2.MmapIO}, ::JLD2.RelOffset) at /home/max/.julia/packages/JLD2/KjBIK/src/datasets.jl:92",
      " [7] getindex(::JLD2.Group{JLD2.JLDFile{JLD2.MmapIO}}, ::String) at /home/max/.julia/packages/JLD2/KjBIK/src/groups.jl:108",
      " [8] read(::JLD2.JLDFile{JLD2.MmapIO}, ::String) at /home/max/.julia/packages/JLD2/KjBIK/src/JLD2.jl:326",
      " [9] #13 at /home/max/.julia/packages/JLD2/KjBIK/src/loadsave.jl:77 [inlined]",
      " [10] #jldopen#31(::Base.Iterators.Pairs{Union{},Union{},Tuple{},NamedTuple{(),Tuple{}}}, ::Function, ::getfield(Main, Symbol(\"##13#15\")), ::String) at /home/max/.julia/packages/JLD2/KjBIK/src/loadsave.jl:4",
      " [11] jldopen(::Function, ::String) at /home/max/.julia/packages/JLD2/KjBIK/src/loadsave.jl:2",
      " [12] top-level scope at /home/max/.julia/packages/JLD2/KjBIK/src/loadsave.jl:76",
      " [13] top-level scope at In[1]:136"
     ]
    }
   ],
   "source": [
    "cluster = false\n",
    "calc_distance = false \n",
    "using Distributed\n",
    "if cluster\n",
    "    using ClusterManagers\n",
    "    N_tasks = parse(Int, ARGS[1])\n",
    "    task_type = parse(Int, ARGS[2])\n",
    "    SAVE_NAME = ARGS[3]\n",
    "\n",
    "    if task_type == 1\n",
    "        N_worker = N_tasks\n",
    "        addprocs(SlurmManager(N_worker))\n",
    "        calc_mc = true \n",
    "    elseif task_type == 2\n",
    "        calc_mc = false\n",
    "        calc_distance = true\n",
    "    else\n",
    "        error(\"Unkown task_type, 1: Solve MCBB Problem, 2: Compute Distances\")\n",
    "    end\n",
    "else\n",
    "    SAVE_NAME = \"stuart-landau-standard-multi-r2\"\n",
    "    using Plots\n",
    "    import PyPlot, GraphPlot\n",
    "end\n",
    "\n",
    "@everywhere using MCBB\n",
    "using JLD2, Clustering, LinearAlgebra, SparseArrays\n",
    "@everywhere using Parameters, Distributions, DifferentialEquations, StatsBase, LightGraphs\n",
    "\n",
    "\n",
    "\n",
    "\n",
    "\n",
    "@everywhere struct stuart_landau_sathiyadevi_pars <: DEParameters\n",
    "    lambda::Real\n",
    "    omega::Real\n",
    "    eps::Real\n",
    "    N::Int\n",
    "    P_1::Int\n",
    "    P_2::Int\n",
    "    A_1::AbstractArray\n",
    "    A_2::AbstractArray\n",
    "end\n",
    "\n",
    "@everywhere function stuart_landau_sathiyadevi_pars(lambda::Real, omega::Real, eps::Real, N::Int, P_1::Int, P_2::Int, p_r::Number=0.)\n",
    "    A_1 = Bool.(adjacency_matrix(watts_strogatz(N, 2*P_1, p_r)))\n",
    "    A_2 = Bool.(adjacency_matrix(watts_strogatz(N, 2*P_2, p_r)))\n",
    "    stuart_landau_sathiyadevi_pars(lambda, omega, eps, N, P_1, P_2, A_1, A_2)\n",
    "end\n",
    "\n",
    "@everywhere function stuart_landau_sathiyadevi_pars(lambda::Real, omega::Real, eps::Real, N::Int, r_1::Real, r_2::Real)\n",
    "    P_1 = Int(round(r_1*N))\n",
    "    P_2 = Int(round(r_2*N))\n",
    "    stuart_landau_sathiyadevi_pars(lambda, omega, eps, N, P_1, P_2)\n",
    "end\n",
    "\n",
    "\n",
    "@everywhere function stuart_landau_sathiyadevi!(dz,z,p::stuart_landau_sathiyadevi_pars,t)\n",
    "    epsP1 = p.eps/(2*p.P_1)\n",
    "    epsP2 = p.eps/(2*p.P_2)\n",
    "\n",
    "    for i=1:p.N\n",
    "        attr_coup = 0.\n",
    "        for j=1:N\n",
    "            if p.A_1[i,j]\n",
    "               attr_coup += complex(real(z[j]) - real(z[i]),0)\n",
    "            end\n",
    "        end\n",
    "        attr_coup *= epsP1\n",
    "\n",
    "        repul_coup = 0.\n",
    "        for j=1:p.N\n",
    "            if p.A_2[i,j]\n",
    "                repul_coup += complex(0., imag(z[j]) - imag(z[i]))\n",
    "            end\n",
    "        end\n",
    "        repul_coup *= epsP2\n",
    "\n",
    "        dz[i] = (complex(p.lambda,p.omega) - abs(z[i])^2)*z[i] + attr_coup - repul_coup\n",
    "    end\n",
    "end\n",
    "\n",
    "\n",
    "@everywhere N = 100\n",
    "@everywhere r_1 = 0.01\n",
    "@everywhere r_2 = 0.22\n",
    "@everywhere omega = 2.0\n",
    "@everywhere lambda = 1.0\n",
    "@everywhere epsval = 2.02\n",
    "@everywhere pars = stuart_landau_sathiyadevi_pars(lambda, omega, epsval, N, r_1, r_2)\n",
    "\n",
    "@everywhere epsilons = () -> rand(Uniform(1.7,2.5))\n",
    "@everywhere p_r_gen = () -> rand(Uniform(0.,0.1))\n",
    "@everywhere r_2_gen = () -> rand(Uniform(0.01,0.24))\n",
    "@everywhere ic_dist = () -> complex(rand(Uniform(-1,1)),rand(Uniform(-1,1)))\n",
    "\n",
    "@everywhere N_ics = 18000\n",
    "@everywhere tail_frac = 0.7\n",
    "\n",
    "#-@everywhere par_vars = (:eps, epsilons)\n",
    "\n",
    "@everywhere new_sls_pars(old_par::stuart_landau_sathiyadevi_pars; eps=2.02, r_2_val=0.22) = stuart_landau_sathiyadevi_pars(old_par.lambda, old_par.omega, eps, old_par.N, r_1, r_2_val)\n",
    "@everywhere par_vars = MultiDimParameterVar([OneDimParameterVar(:eps, epsilons),OneDimParameterVar(:r_2_val,r_2_gen)], new_sls_pars)\n",
    "\n",
    "@everywhere odeprob = ODEProblem(stuart_landau_sathiyadevi!, rand(Complex{Float64},N), (0.,200.), pars)\n",
    "\n",
    "\n",
    "@everywhere mean_real(arr::Array{Complex{Float64},1}, past_measures::AbstractArray) = mean(real.(arr))\n",
    "@everywhere std_real(arr::Array{Complex{Float64},1}, past_measures::AbstractArray) = std(real.(arr); mean=past_measures[1])\n",
    "@everywhere kl_real(arr::AbstractArray, past_measures::AbstractArray) = empirical_1D_KL_divergence_hist(real.(arr), past_measures)\n",
    "\n",
    "@everywhere mean_imag(arr::Array{Complex{Float64},1}, past_measures::AbstractArray) = mean(imag.(arr))\n",
    "@everywhere std_imag(arr::Array{Complex{Float64},1}, past_measures::AbstractArray) = std(imag.(arr); mean=past_measures[4])\n",
    "@everywhere kl_imag(arr::AbstractArray, past_measures::AbstractArray) = empirical_1D_KL_divergence_hist(imag.(arr), [past_measures[4], past_measures[5]])\n",
    "\n",
    "@everywhere std_max(arr::AbstractArray) = maximum(std(real.(arr)))\n",
    "\n",
    "@everywhere function eval_ode_run_stuart(sol,i)\n",
    "    (N_dim, __) = size(sol)\n",
    "    state_filter = collect(1:N)\n",
    "    eval_funcs = [mean_real, std_real, kl_real, mean_imag, std_imag, kl_imag]\n",
    "    global_eval_funcs = [std_max]\n",
    "    matrix_eval_funcs = [correlation_ecdf]\n",
    "    eval_ode_run(sol, i, state_filter, eval_funcs, matrix_eval_funcs, global_eval_funcs, flag_past_measures=true)\n",
    "end\n",
    "\n",
    "\n",
    "\n",
    "if cluster\n",
    "    prob = DEMCBBProblem(odeprob, ic_dist, N_ics, pars, par_vars, eval_ode_run_stuart, tail_frac);\n",
    "    println(\"solving now...\")\n",
    "    sol = solve(prob);\n",
    "    println(\"finished!\")\n",
    "    @save string(SAVE_NAME,\"-ps.jld2\") prob sol\n",
    "else\n",
    "    @load string(SAVE_NAME,\"-ps.jld2\") prob sol\n",
    "end\n",
    "\n",
    "weights = [0.25, 1., 0., 0.25, 1., 0., 0., 0.5, 1.,0.5]\n",
    "distance_func = (x,y)->sum(abs.(x.-y))\n",
    "\n",
    "K_BIN_FAC = 0.25\n",
    "\n",
    "if calc_distance\n",
    "    sol = normalize(sol)\n",
    "\n",
    "    #println(\"calculating first distance matrix\")\n",
    "    #D = distance_matrix(sol, prob, [0.5, 1., 0.25, 0.5, 1., 0.25, 1.])\n",
    "    #@save string(SAVE_NAME,\"-d.jld2\") D\n",
    "\n",
    "    println(\"calculating distance matrix\")\n",
    "    \n",
    "    D_hist = distance_matrix(sol, prob, distance_func, weights, histograms=true, matrix_distance_func=MCBB.wasserstein_histogram_distance, k_bin=K_BIN_FAC)\n",
    "    @save string(SAVE_NAME,\"-d-hist-corr.jld2\") D_hist\n",
    "    \n",
    "    # normalize sol for the distance computation but not for the later plots and so on. \n",
    "    @load string(SAVE_NAME,\"-ps.jld2\") prob sol\n",
    "else\n",
    "    if !(cluster)\n",
    "        #@load string(SAVE_NAME,\"-d.jld2\") D\n",
    "        @load string(SAVE_NAME,\"-d-hist-corr.jld2\") D_hist\n",
    "    end\n",
    "end"
   ]
  },
  {
   "cell_type": "code",
   "execution_count": 2,
   "metadata": {},
   "outputs": [
    {
     "ename": "UndefVarError",
     "evalue": "UndefVarError: D_hist not defined",
     "output_type": "error",
     "traceback": [
      "UndefVarError: D_hist not defined",
      "",
      "Stacktrace:",
      " [1] top-level scope at In[2]:2"
     ]
    }
   ],
   "source": [
    "k = 4\n",
    "fdist2 = k_dist(D_hist,k);"
   ]
  },
  {
   "cell_type": "code",
   "execution_count": 3,
   "metadata": {},
   "outputs": [
    {
     "ename": "UndefVarError",
     "evalue": "UndefVarError: sol not defined",
     "output_type": "error",
     "traceback": [
      "UndefVarError: sol not defined",
      "",
      "Stacktrace:",
      " [1] top-level scope at In[3]:1"
     ]
    }
   ],
   "source": [
    "x = collect(1:sol.N_mc)\n",
    "plot(x[1:end],fdist2[1:end])"
   ]
  },
  {
   "cell_type": "code",
   "execution_count": 4,
   "metadata": {},
   "outputs": [
    {
     "ename": "UndefVarError",
     "evalue": "UndefVarError: D_hist not defined",
     "output_type": "error",
     "traceback": [
      "UndefVarError: D_hist not defined",
      "",
      "Stacktrace:",
      " [1] top-level scope at In[4]:2"
     ]
    }
   ],
   "source": [
    "db_eps = 0.07\n",
    "#db_res_hist = dbscan(D_hist,db_eps,20)\n",
    "db_res_hist = dbscan(D_hist,db_eps,20)\n",
    "\n",
    "db_res_hist.counts"
   ]
  },
  {
   "cell_type": "code",
   "execution_count": 5,
   "metadata": {},
   "outputs": [
    {
     "ename": "UndefVarError",
     "evalue": "UndefVarError: db_res_hist not defined",
     "output_type": "error",
     "traceback": [
      "UndefVarError: db_res_hist not defined",
      "",
      "Stacktrace:",
      " [1] top-level scope at In[5]:1"
     ]
    }
   ],
   "source": [
    "cluster_n_noise(db_res_hist)"
   ]
  },
  {
   "cell_type": "code",
   "execution_count": 6,
   "metadata": {},
   "outputs": [
    {
     "ename": "UndefVarError",
     "evalue": "UndefVarError: prob not defined",
     "output_type": "error",
     "traceback": [
      "UndefVarError: prob not defined",
      "",
      "Stacktrace:",
      " [1] top-level scope at In[6]:1"
     ]
    }
   ],
   "source": [
    "cluster_members = cluster_membership(prob, db_res_hist, [0.05,0.01], [0.01,0.0025]);\n"
   ]
  },
  {
   "cell_type": "code",
   "execution_count": 7,
   "metadata": {},
   "outputs": [
    {
     "data": {
      "text/plain": [
       "6-element Array{String,1}:\n",
       " \"Outlier\"\n",
       " \"OD+PS\"  \n",
       " \"TW\"     \n",
       " \"DS\"     \n",
       " \"IW2\"    \n",
       " \"RCSW\"   "
      ]
     },
     "execution_count": 7,
     "metadata": {},
     "output_type": "execute_result"
    }
   ],
   "source": [
    "clabels = [\"Outlier\", \"OD+PS\", \"TW\", \"DS\", \"IW2\",\"RCSW\"]"
   ]
  },
  {
   "cell_type": "code",
   "execution_count": 8,
   "metadata": {},
   "outputs": [
    {
     "ename": "UndefVarError",
     "evalue": "UndefVarError: cluster_members not defined",
     "output_type": "error",
     "traceback": [
      "UndefVarError: cluster_members not defined",
      "",
      "Stacktrace:",
      " [1] top-level scope at In[8]:6"
     ]
    }
   ],
   "source": [
    "using LaTeXStrings\n",
    "Plots.pyplot()\n",
    "\n",
    "\n",
    "l = @layout [a; b; c; d; e]\n",
    "p1 = Plots.plot(cluster_members, plot_index=1, xlabel=L\"Coupling $K$\", ylabel=L\"$r_2$\", title=string(clabels[1], \" Cluster\"), colorbar_title=\"rel. Size of Basin\")\n",
    "p2 = Plots.plot(cluster_members, plot_index=2, xlabel=L\"Coupling $K$\", ylabel=L\"$r_2$\", title=string(clabels[2], \" Cluster\"), colorbar_title=\"rel. Size of Basin\")\n",
    "p3 = Plots.plot(cluster_members, plot_index=3, xlabel=L\"Coupling $K$\", ylabel=L\"$r_2$\", title=string(clabels[3], \" Cluster\"), colorbar_title=\"rel. Size of Basin\")\n",
    "p4 = Plots.plot(cluster_members, plot_index=4, xlabel=L\"Coupling $K$\", ylabel=L\"$r_2$\", title=string(clabels[4], \" Cluster\"), colorbar_title=\"rel. Size of Basin\")\n",
    "p5 = Plots.plot(cluster_members, plot_index=6, xlabel=L\"Coupling $K$\", ylabel=L\"$r_2$\", title=string(clabels[6], \" Cluster\"), colorbar_title=\"rel. Size of Basin\")\n",
    "\n",
    "\n",
    "Plots.plot([p1, p2, p3, p4, p5]..., size=(400,1400), layout=l)"
   ]
  },
  {
   "cell_type": "code",
   "execution_count": 9,
   "metadata": {},
   "outputs": [
    {
     "ename": "ErrorException",
     "evalue": "No current plot/subplot",
     "output_type": "error",
     "traceback": [
      "No current plot/subplot",
      "",
      "Stacktrace:",
      " [1] error(::String) at ./error.jl:33",
      " [2] current at /home/max/.julia/packages/Plots/jWNMG/src/plot.jl:15 [inlined]",
      " [3] savefig(::String) at /home/max/.julia/packages/Plots/jWNMG/src/output.jl:123",
      " [4] top-level scope at In[9]:1"
     ]
    }
   ],
   "source": [
    "Plots.savefig(\"sl-2d-r2-cm.pdf\")"
   ]
  },
  {
   "cell_type": "code",
   "execution_count": 10,
   "metadata": {},
   "outputs": [
    {
     "ename": "UndefVarError",
     "evalue": "UndefVarError: sol not defined",
     "output_type": "error",
     "traceback": [
      "UndefVarError: sol not defined",
      "",
      "Stacktrace:",
      " [1] top-level scope at In[10]:4"
     ]
    }
   ],
   "source": [
    "colororder = [\"blue\",\"orange\",\"green\",\"red\",\"purple\",\"brown\",\"magenta\",\"olive\",\"cyan\"]\n",
    "measure_1 = 1\n",
    "measure_2 = 2\n",
    "\n",
    "m1m = cluster_measure_mean(sol, db_res_hist, measure_1)\n",
    "m1sd = cluster_measure_std(sol, db_res_hist, measure_1)\n",
    "m2m = cluster_measure_mean(sol, db_res_hist, measure_2)\n",
    "m2sd = cluster_measure_std(sol, db_res_hist, measure_2)\n",
    "plot_i = 1:8\n",
    "SC = PyPlot.scatter(m1m[plot_i], m2m[plot_i], c=colororder[plot_i])\n",
    "#PyPlot.legend(SC,[\"Noise\",\"2\",\"3\",\"4\",\"5\",\"6\",\"7\",\"8\",\"9\",\"10\",\"11\"])\n",
    "\n",
    "PyPlot.errorbar(m1m[plot_i], m2m[plot_i], fmt=\"o\", ms=0, ecolor=colororder, xerr=0.005*m1sd[plot_i], yerr=0.1*m2sd[plot_i])\n",
    "PyPlot.xlabel(\"Average Mean\")\n",
    "PyPlot.ylabel(\"Average Std\")"
   ]
  },
  {
   "cell_type": "code",
   "execution_count": 11,
   "metadata": {},
   "outputs": [
    {
     "ename": "UndefVarError",
     "evalue": "UndefVarError: prob not defined",
     "output_type": "error",
     "traceback": [
      "UndefVarError: prob not defined",
      "",
      "Stacktrace:",
      " [1] top-level scope at In[11]:1"
     ]
    }
   ],
   "source": [
    "traj1 = get_trajectory(prob, sol, db_res_hist, 1)\n",
    "IM = PyPlot.imshow(Matrix(imag.(traj1)))\n",
    "PyPlot.ylabel(L\"Oscillator $i$\",fontsize=20) \n",
    "PyPlot.xlabel(L\"Time $t$\",fontsize=20)\n",
    "PyPlot.title(string(\"Example Trajectory - \",clabels[1]), fontsize=20)\n",
    "cb = PyPlot.colorbar(IM, orientation=\"horizontal\")\n",
    "cb[:ax][:set_ylabel](\"Im(z)\", fontsize=20)\n"
   ]
  },
  {
   "cell_type": "code",
   "execution_count": 12,
   "metadata": {},
   "outputs": [
    {
     "ename": "UndefVarError",
     "evalue": "UndefVarError: prob not defined",
     "output_type": "error",
     "traceback": [
      "UndefVarError: prob not defined",
      "",
      "Stacktrace:",
      " [1] top-level scope at In[12]:1"
     ]
    }
   ],
   "source": [
    "traj2 = get_trajectory(prob, sol, db_res_hist, 2)\n",
    "IM = PyPlot.imshow(Matrix(imag.(traj2)))\n",
    "PyPlot.ylabel(L\"Oscillator $i$\",fontsize=20) \n",
    "PyPlot.xlabel(L\"Time $t$\",fontsize=20)\n",
    "PyPlot.title(string(\"Example Trajectory - \",clabels[2]), fontsize=20)\n",
    "cb = PyPlot.colorbar(IM, orientation=\"horizontal\")\n",
    "cb[:ax][:set_ylabel](\"Im(z)\", fontsize=20)"
   ]
  },
  {
   "cell_type": "code",
   "execution_count": 13,
   "metadata": {},
   "outputs": [
    {
     "ename": "UndefVarError",
     "evalue": "UndefVarError: prob not defined",
     "output_type": "error",
     "traceback": [
      "UndefVarError: prob not defined",
      "",
      "Stacktrace:",
      " [1] top-level scope at In[13]:1"
     ]
    }
   ],
   "source": [
    "traj3 = get_trajectory(prob, sol, db_res_hist, 3)\n",
    "IM = PyPlot.imshow(Matrix(imag.(traj3)))\n",
    "PyPlot.ylabel(L\"Oscillator $i$\",fontsize=20) \n",
    "PyPlot.xlabel(L\"Time $t$\",fontsize=20)\n",
    "PyPlot.title(string(\"Example Trajectory - \",clabels[3]), fontsize=20)\n",
    "cb = PyPlot.colorbar(IM, orientation=\"horizontal\")\n",
    "cb[:ax][:set_ylabel](\"Im(z)\", fontsize=20)"
   ]
  },
  {
   "cell_type": "code",
   "execution_count": 14,
   "metadata": {},
   "outputs": [
    {
     "ename": "UndefVarError",
     "evalue": "UndefVarError: prob not defined",
     "output_type": "error",
     "traceback": [
      "UndefVarError: prob not defined",
      "",
      "Stacktrace:",
      " [1] top-level scope at In[14]:1"
     ]
    }
   ],
   "source": [
    "traj4 = get_trajectory(prob, sol, db_res_hist, 4)\n",
    "IM = PyPlot.imshow(Matrix(imag.(traj4)))\n",
    "PyPlot.ylabel(L\"Oscillator $i$\",fontsize=20) \n",
    "PyPlot.xlabel(L\"Time $t$\",fontsize=20)\n",
    "PyPlot.title(string(\"Example Trajectory - \",clabels[4]), fontsize=20)\n",
    "cb = PyPlot.colorbar(IM, orientation=\"horizontal\")\n",
    "cb[:ax][:set_ylabel](\"Im(z)\", fontsize=20)"
   ]
  },
  {
   "cell_type": "code",
   "execution_count": 15,
   "metadata": {},
   "outputs": [
    {
     "ename": "UndefVarError",
     "evalue": "UndefVarError: prob not defined",
     "output_type": "error",
     "traceback": [
      "UndefVarError: prob not defined",
      "",
      "Stacktrace:",
      " [1] top-level scope at In[15]:1"
     ]
    }
   ],
   "source": [
    "traj6 = get_trajectory(prob, sol, db_res_hist, 6)\n",
    "IM = PyPlot.imshow(Matrix(imag.(traj6)))\n",
    "PyPlot.ylabel(L\"Oscillator $i$\",fontsize=20) \n",
    "PyPlot.xlabel(L\"Time $t$\",fontsize=20)\n",
    "PyPlot.title(string(\"Example Trajectory - \",clabels[6]), fontsize=20)\n",
    "cb = PyPlot.colorbar(IM, orientation=\"horizontal\")\n",
    "cb[:ax][:set_ylabel](\"Im(z)\", fontsize=20)"
   ]
  }
 ],
 "metadata": {
  "@webio": {
   "lastCommId": null,
   "lastKernelId": null
  },
  "kernelspec": {
   "display_name": "Julia 1.1.0",
   "language": "julia",
   "name": "julia-1.1"
  },
  "language_info": {
   "file_extension": ".jl",
   "mimetype": "application/julia",
   "name": "julia",
   "version": "1.1.0"
  }
 },
 "nbformat": 4,
 "nbformat_minor": 2
}
